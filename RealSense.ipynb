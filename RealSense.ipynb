{
 "cells": [
  {
   "cell_type": "code",
   "execution_count": 1,
   "metadata": {},
   "outputs": [],
   "source": [
    "import pyrealsense2 as rs\n",
    "import numpy as np\n",
    "import matplotlib.pyplot as plt\n",
    "from IPython.display import clear_output\n",
    "import time\n",
    "import cv2 as cv"
   ]
  },
  {
   "cell_type": "code",
   "execution_count": 2,
   "metadata": {},
   "outputs": [
    {
     "data": {
      "text/plain": [
       "<pyrealsense2.pyrealsense2.pipeline_profile at 0x1d5532382b0>"
      ]
     },
     "execution_count": 2,
     "metadata": {},
     "output_type": "execute_result"
    }
   ],
   "source": [
    "RES_WIDTH = 640\n",
    "RES_HEIGHT = 480\n",
    "\n",
    "# Gets the pipeline from the realsense\n",
    "pipe = rs.pipeline()\n",
    "\n",
    "# Configuration for the camera\n",
    "config = rs.config()\n",
    "# Gets a 30 fps depth stream using a z16 format\n",
    "config.enable_stream(rs.stream.depth, RES_WIDTH, RES_HEIGHT, rs.format.z16, 30)\n",
    "\n",
    "# Starts the pipeline\n",
    "pipe.start(config)"
   ]
  },
  {
   "cell_type": "code",
   "execution_count": 3,
   "metadata": {},
   "outputs": [
    {
     "name": "stdout",
     "output_type": "stream",
     "text": [
      "[[  0   0 175 ... 219 216 217]\n",
      " [  0   0 168 ... 226 231 238]\n",
      " [  0   0 173 ... 241 244 245]\n",
      " ...\n",
      " [  0   0  49 ...   0   0   0]\n",
      " [  0   0  48 ...   0   0   0]\n",
      " [  0   0   0 ...   0   0   0]]\n",
      "  ******** =+-*+     ..... ##******************=.#%%%%%%%%%%%%%%\n",
      "  ******#*-==***    .......#####************#***+-##%%%%%%%%%%@@\n",
      "  ****#### ==*#      ......-######%###*********+++####%%@@@@@@@@\n",
      "  ****##** == #-    .......#######%%%%%%%##*#**++++###%%%%@@@@@@\n",
      "  *****#** ==+#   .........%######%%%%%@%%%%%%**++-##%%%%%%%@   \n",
      "  ########===###    ....... %%%%%%%%%%%@%%%%%%% -*%%%%%%%%%@@   \n",
      " -######## == =     ...... @@@@%%%%%%%%@@@%%@@@@@@  @@@@@@@@@  @\n",
      " -########+== %%%   ......%%%%@%%%%%%@@@@ ##@@       @@ @@@@@@@%\n",
      " -######## ==        .....%%%%@%%%%%%%%@@%##*@@@#       @@@@@@@ \n",
      " -########.==       .....     %%%%%%%%%@@@#*@+   @         *=%%@\n",
      " -########    ...........     %%%%%%%=  .::.#            @    #@\n",
      "  #######   ..............    %#%%%%   :::::.               -   \n",
      "  ######  : ..............::  %#%%%%  .::::::           %     @@\n",
      "  ####-     ..............:::@%%%%%:  :::::::          -        \n",
      " -####--   ...............:::*%%%%%=  :::::::::::   @   @       \n",
      "  ####    ................:::          :::      ::              \n",
      "  ###.     ...............:::.                                  \n",
      "           ................:::                                  \n",
      "      *   .................:::                                  \n",
      "     **    ................::::                             % - \n",
      "      .-    ................::.                                 \n",
      "     ----   ...............:::                                * \n",
      "       --   ............... :.                            -   --\n",
      "  ****- -   ..............: :                            =  : --\n",
      "  ******=    ............. :::                           = -  . \n",
      "  *+****     .............:::                            . -  ..\n",
      "  *+*****    .............:::                              ..   \n",
      "  *******     ....... ....::                             .      \n",
      "  +++*****     ....... ...::                                    \n",
      " .++******   ... .........  ...                       .....     \n",
      " -*****++**    ..   ...... ....                                 \n",
      "  *-********   ...  ...... ....                                 \n",
      "   -+*******   ...... . ... ..                                  \n",
      " ##=*******-   .......  ......                                  \n",
      " #**********   ...      . .                                     \n",
      " ***+=.          .                                              \n",
      "  +*                                                            \n",
      "                                                                \n",
      "                                                                \n",
      "                                                                \n",
      "                                                                \n",
      "                                                                \n",
      "       -                                                        \n",
      "                                                                \n",
      "                                                                \n",
      "  .#   .      -                                :   .            \n",
      "  .*                                     .                      \n",
      "                                                                \n"
     ]
    }
   ],
   "source": [
    "# Ascii gradient from white to black\n",
    "ascii_grad = ' .:-=+*#%@ '\n",
    "\n",
    "REDUCTION_SCALE = 10\n",
    "ASCII_WIDTH = RES_WIDTH // REDUCTION_SCALE\n",
    "ASCII_HEIGHT = RES_HEIGHT // REDUCTION_SCALE\n",
    "\n",
    "# Loops forever\n",
    "while True:\n",
    "    # # Clears output\n",
    "    clear_output(wait=True)\n",
    "    \n",
    "    # Waits and obtains the next camera frame\n",
    "    frames = pipe.wait_for_frames()\n",
    "    # Gets the depth data from the frames\n",
    "    depth = frames.get_depth_frame()\n",
    "    \n",
    "    # Gets data as np array\n",
    "    depth_image = np.asanyarray(depth.get_data())\n",
    "    \n",
    "    # Resizes the image\n",
    "    depth_image = cv.resize(depth_image, (ASCII_WIDTH, ASCII_HEIGHT))\n",
    "    \n",
    "    # Converts 16 bit data to 8 bit data\n",
    "    depth_8bit = cv.convertScaleAbs(depth_image, alpha=0.05)\n",
    "    \n",
    "    # Creates a remapping function and vectorizes it\n",
    "    def get_char(val):\n",
    "        # Scales the value to the ascii gradient\n",
    "        return ascii_grad[int(val / 255 * (len(ascii_grad) - 1))]\n",
    "    apply_func = np.vectorize(get_char)\n",
    "    \n",
    "    # Applys the function to the image\n",
    "    res = apply_func(depth_8bit)\n",
    "    \n",
    "    print(depth_8bit)\n",
    "    \n",
    "    # Prints the image\n",
    "    print('\\n'.join([''.join(row) for row in res]))\n",
    "    "
   ]
  }
 ],
 "metadata": {
  "kernelspec": {
   "display_name": "Python 3",
   "language": "python",
   "name": "python3"
  },
  "language_info": {
   "codemirror_mode": {
    "name": "ipython",
    "version": 3
   },
   "file_extension": ".py",
   "mimetype": "text/x-python",
   "name": "python",
   "nbconvert_exporter": "python",
   "pygments_lexer": "ipython3",
   "version": "3.9.0"
  },
  "orig_nbformat": 4,
  "vscode": {
   "interpreter": {
    "hash": "bb2f4d8cafbb5e6a1a57594b656f525a815999bc8da94e60b349016f17e73727"
   }
  }
 },
 "nbformat": 4,
 "nbformat_minor": 2
}
