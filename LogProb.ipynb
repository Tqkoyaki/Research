{
 "cells": [
  {
   "cell_type": "code",
   "execution_count": 25,
   "metadata": {},
   "outputs": [],
   "source": [
    "import torch\n",
    "from torch.distributions.normal import Normal"
   ]
  },
  {
   "cell_type": "code",
   "execution_count": 26,
   "metadata": {},
   "outputs": [],
   "source": [
    "mu_m = 1\n",
    "sig_m = 2"
   ]
  },
  {
   "cell_type": "code",
   "execution_count": 27,
   "metadata": {},
   "outputs": [
    {
     "data": {
      "text/plain": [
       "tensor([ 0.4407,  1.7495,  4.1969, -0.5944,  1.7635,  0.2335,  2.6861,  3.5987,\n",
       "        -1.9354, -1.7623,  0.1946,  2.9709,  0.2480,  2.1625,  4.1358,  0.2149,\n",
       "        -0.8061,  1.2800,  1.3645,  0.9177, -2.9811,  0.5562,  3.5483, -0.2892,\n",
       "        -0.4578,  4.2973, -2.5908,  0.6810,  0.9732, -3.2901,  3.1142,  1.6269,\n",
       "         4.7802, -2.3539,  2.7070, -0.7073,  0.7509, -2.0961, -0.6852, -0.0295,\n",
       "         1.9835, -1.7379, -1.2149,  0.0504, -0.1903,  1.9013,  0.9008,  0.6365,\n",
       "        -0.5188,  0.5834,  0.8377,  2.3983,  4.5836,  5.5056, -3.2794,  1.2404,\n",
       "         0.1694,  2.8977,  1.4073,  1.6577, -1.9081,  0.3154, -0.2586,  1.3550,\n",
       "         1.4666,  6.1524,  0.3691,  2.6361,  1.3132,  2.3563,  2.7224,  1.7533,\n",
       "        -2.3971, -2.0674, -2.1031,  2.3902,  0.2712,  2.6421,  0.5053,  2.1364,\n",
       "         1.2720,  1.0586,  1.9096,  0.5052,  3.2746,  3.7367, -0.4282,  2.5397,\n",
       "        -0.7903,  1.8501,  1.2347,  3.6785,  3.7776, -2.3841, -0.1224,  1.4589,\n",
       "        -0.7044,  0.5462,  1.7317, -0.4838])"
      ]
     },
     "execution_count": 27,
     "metadata": {},
     "output_type": "execute_result"
    }
   ],
   "source": [
    "z = Normal(0, 1).sample_n(100)\n",
    "m_i = mu_m + sig_m * z\n",
    "m_i"
   ]
  },
  {
   "cell_type": "code",
   "execution_count": 28,
   "metadata": {},
   "outputs": [
    {
     "data": {
      "text/plain": [
       "tensor(3.3363)"
      ]
     },
     "execution_count": 28,
     "metadata": {},
     "output_type": "execute_result"
    }
   ],
   "source": [
    "(-1.) * (1 / 100) * Normal(0, 1).log_prob(m_i).sum()"
   ]
  },
  {
   "cell_type": "code",
   "execution_count": 29,
   "metadata": {},
   "outputs": [
    {
     "data": {
      "text/plain": [
       "tensor(3.4189)"
      ]
     },
     "execution_count": 29,
     "metadata": {},
     "output_type": "execute_result"
    }
   ],
   "source": [
    "(sig_m ** 2 + mu_m ** 2) / 2 + .5 * torch.log(torch.tensor(2) * torch.pi)"
   ]
  }
 ],
 "metadata": {
  "kernelspec": {
   "display_name": "Python 3",
   "language": "python",
   "name": "python3"
  },
  "language_info": {
   "codemirror_mode": {
    "name": "ipython",
    "version": 3
   },
   "file_extension": ".py",
   "mimetype": "text/x-python",
   "name": "python",
   "nbconvert_exporter": "python",
   "pygments_lexer": "ipython3",
   "version": "3.9.10"
  },
  "orig_nbformat": 4
 },
 "nbformat": 4,
 "nbformat_minor": 2
}
