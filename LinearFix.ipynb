{
 "cells": [
  {
   "cell_type": "code",
   "execution_count": 3,
   "metadata": {},
   "outputs": [],
   "source": [
    "import torch\n",
    "import torch.nn as nn\n",
    "import torch.optim as optim\n",
    "import pandas as pd\n",
    "import numpy as np\n",
    "from tqdm import tqdm\n"
   ]
  },
  {
   "cell_type": "code",
   "execution_count": 4,
   "metadata": {},
   "outputs": [],
   "source": [
    "class Distribution(nn.Module):\n",
    "    def __init__(self, size=1000):\n",
    "        super().__init__()\n",
    "        self.mu = nn.Parameter(torch.tensor(0.0), requires_grad=True)\n",
    "        self.std = nn.Parameter(torch.tensor(1.0), requires_grad=True)\n",
    "        self.size = size\n",
    "    def forward(self):\n",
    "        return self.mu + self.std * torch.normal(0, 1, size=(1, self.size)).flatten()\n",
    "\n",
    "class LinearRegression(nn.Module):\n",
    "    def __init__(self, size=1000):\n",
    "        super().__init__()\n",
    "        self.m = Distribution(size=size)\n",
    "        self.b = Distribution(size=size)\n",
    "    def forward(self, x, y):\n",
    "        m = self.m()\n",
    "        b = self.b()\n",
    "        x = torch.tensor(x)\n",
    "        y = torch.tensor(y)\n",
    "        \n",
    "        total_loss = (((y - (torch.einsum('m,x -> xm', m, x) + b).transpose(0, 1)) ** 2).sum(axis=0) * (1 / len(m))).sum() * (1 / len(x))\n",
    "        \n",
    "        print('TOTAL LOSS:', total_loss)\n",
    "        \n",
    "        # Minimize loss by maximizing this value\n",
    "        return total_loss"
   ]
  },
  {
   "cell_type": "code",
   "execution_count": 5,
   "metadata": {},
   "outputs": [],
   "source": [
    "def training(x, y, epochs=5):\n",
    "    model = LinearRegression()\n",
    "    optimizer = optim.Adam(model.parameters())\n",
    "    \n",
    "    for epoch in tqdm(range(epochs), desc=\"Training...\"):\n",
    "        # Zeros gradiant for training\n",
    "        optimizer.zero_grad()\n",
    "        \n",
    "        # Calculates likelihood\n",
    "        loglik = model(x, y)\n",
    "        e = torch.mean(loglik)\n",
    "        \n",
    "        # Updates parameters\n",
    "        e.backward()\n",
    "        optimizer.step()\n",
    "        \n",
    "    return model"
   ]
  },
  {
   "cell_type": "code",
   "execution_count": 6,
   "metadata": {},
   "outputs": [
    {
     "data": {
      "text/html": [
       "<div>\n",
       "<style scoped>\n",
       "    .dataframe tbody tr th:only-of-type {\n",
       "        vertical-align: middle;\n",
       "    }\n",
       "\n",
       "    .dataframe tbody tr th {\n",
       "        vertical-align: top;\n",
       "    }\n",
       "\n",
       "    .dataframe thead th {\n",
       "        text-align: right;\n",
       "    }\n",
       "</style>\n",
       "<table border=\"1\" class=\"dataframe\">\n",
       "  <thead>\n",
       "    <tr style=\"text-align: right;\">\n",
       "      <th></th>\n",
       "      <th>TV</th>\n",
       "      <th>Radio</th>\n",
       "      <th>Newspaper</th>\n",
       "      <th>Sales</th>\n",
       "    </tr>\n",
       "  </thead>\n",
       "  <tbody>\n",
       "    <tr>\n",
       "      <th>0</th>\n",
       "      <td>230.1</td>\n",
       "      <td>37.8</td>\n",
       "      <td>69.2</td>\n",
       "      <td>22.1</td>\n",
       "    </tr>\n",
       "    <tr>\n",
       "      <th>1</th>\n",
       "      <td>44.5</td>\n",
       "      <td>39.3</td>\n",
       "      <td>45.1</td>\n",
       "      <td>10.4</td>\n",
       "    </tr>\n",
       "    <tr>\n",
       "      <th>2</th>\n",
       "      <td>17.2</td>\n",
       "      <td>45.9</td>\n",
       "      <td>69.3</td>\n",
       "      <td>9.3</td>\n",
       "    </tr>\n",
       "    <tr>\n",
       "      <th>3</th>\n",
       "      <td>151.5</td>\n",
       "      <td>41.3</td>\n",
       "      <td>58.5</td>\n",
       "      <td>18.5</td>\n",
       "    </tr>\n",
       "    <tr>\n",
       "      <th>4</th>\n",
       "      <td>180.8</td>\n",
       "      <td>10.8</td>\n",
       "      <td>58.4</td>\n",
       "      <td>12.9</td>\n",
       "    </tr>\n",
       "    <tr>\n",
       "      <th>...</th>\n",
       "      <td>...</td>\n",
       "      <td>...</td>\n",
       "      <td>...</td>\n",
       "      <td>...</td>\n",
       "    </tr>\n",
       "    <tr>\n",
       "      <th>195</th>\n",
       "      <td>38.2</td>\n",
       "      <td>3.7</td>\n",
       "      <td>13.8</td>\n",
       "      <td>7.6</td>\n",
       "    </tr>\n",
       "    <tr>\n",
       "      <th>196</th>\n",
       "      <td>94.2</td>\n",
       "      <td>4.9</td>\n",
       "      <td>8.1</td>\n",
       "      <td>9.7</td>\n",
       "    </tr>\n",
       "    <tr>\n",
       "      <th>197</th>\n",
       "      <td>177.0</td>\n",
       "      <td>9.3</td>\n",
       "      <td>6.4</td>\n",
       "      <td>12.8</td>\n",
       "    </tr>\n",
       "    <tr>\n",
       "      <th>198</th>\n",
       "      <td>283.6</td>\n",
       "      <td>42.0</td>\n",
       "      <td>66.2</td>\n",
       "      <td>25.5</td>\n",
       "    </tr>\n",
       "    <tr>\n",
       "      <th>199</th>\n",
       "      <td>232.1</td>\n",
       "      <td>8.6</td>\n",
       "      <td>8.7</td>\n",
       "      <td>13.4</td>\n",
       "    </tr>\n",
       "  </tbody>\n",
       "</table>\n",
       "<p>200 rows × 4 columns</p>\n",
       "</div>"
      ],
      "text/plain": [
       "        TV  Radio  Newspaper  Sales\n",
       "0    230.1   37.8       69.2   22.1\n",
       "1     44.5   39.3       45.1   10.4\n",
       "2     17.2   45.9       69.3    9.3\n",
       "3    151.5   41.3       58.5   18.5\n",
       "4    180.8   10.8       58.4   12.9\n",
       "..     ...    ...        ...    ...\n",
       "195   38.2    3.7       13.8    7.6\n",
       "196   94.2    4.9        8.1    9.7\n",
       "197  177.0    9.3        6.4   12.8\n",
       "198  283.6   42.0       66.2   25.5\n",
       "199  232.1    8.6        8.7   13.4\n",
       "\n",
       "[200 rows x 4 columns]"
      ]
     },
     "execution_count": 6,
     "metadata": {},
     "output_type": "execute_result"
    }
   ],
   "source": [
    "df = pd.read_csv('data/Advertising.csv').drop('Unnamed: 0', axis=1)\n",
    "df"
   ]
  },
  {
   "cell_type": "code",
   "execution_count": 7,
   "metadata": {},
   "outputs": [],
   "source": [
    "x = df.TV.to_numpy()\n",
    "y = df.Sales.to_numpy()"
   ]
  },
  {
   "cell_type": "code",
   "execution_count": 8,
   "metadata": {},
   "outputs": [
    {
     "name": "stderr",
     "output_type": "stream",
     "text": [
      "Training...:   0%|          | 0/100 [00:00<?, ?it/s]"
     ]
    },
    {
     "name": "stdout",
     "output_type": "stream",
     "text": [
      "TOTAL LOSS: tensor(27421.9731, dtype=torch.float64, grad_fn=<MulBackward0>)\n"
     ]
    },
    {
     "name": "stderr",
     "output_type": "stream",
     "text": [
      "Training...:  10%|█         | 10/100 [00:01<00:09,  9.75it/s]"
     ]
    },
    {
     "name": "stdout",
     "output_type": "stream",
     "text": [
      "TOTAL LOSS: tensor(27236.8509, dtype=torch.float64, grad_fn=<MulBackward0>)\n",
      "TOTAL LOSS: tensor(27472.8601, dtype=torch.float64, grad_fn=<MulBackward0>)\n",
      "TOTAL LOSS: tensor(30498.9509, dtype=torch.float64, grad_fn=<MulBackward0>)\n",
      "TOTAL LOSS: tensor(31933.6552, dtype=torch.float64, grad_fn=<MulBackward0>)\n",
      "TOTAL LOSS: tensor(27788.2916, dtype=torch.float64, grad_fn=<MulBackward0>)\n",
      "TOTAL LOSS: tensor(27695.1833, dtype=torch.float64, grad_fn=<MulBackward0>)\n",
      "TOTAL LOSS: tensor(30567.6950, dtype=torch.float64, grad_fn=<MulBackward0>)\n",
      "TOTAL LOSS: tensor(28619.1090, dtype=torch.float64, grad_fn=<MulBackward0>)\n",
      "TOTAL LOSS: tensor(26317.9840, dtype=torch.float64, grad_fn=<MulBackward0>)\n",
      "TOTAL LOSS: tensor(30766.9235, dtype=torch.float64, grad_fn=<MulBackward0>)\n",
      "TOTAL LOSS: tensor(29329.0382, dtype=torch.float64, grad_fn=<MulBackward0>)\n",
      "TOTAL LOSS: tensor(28815.9532, dtype=torch.float64, grad_fn=<MulBackward0>)\n",
      "TOTAL LOSS: tensor(28397.5001, dtype=torch.float64, grad_fn=<MulBackward0>)\n",
      "TOTAL LOSS: tensor(30814.7655, dtype=torch.float64, grad_fn=<MulBackward0>)\n",
      "TOTAL LOSS: tensor(27684.5966, dtype=torch.float64, grad_fn=<MulBackward0>)\n",
      "TOTAL LOSS: tensor(27458.5565, dtype=torch.float64, grad_fn=<MulBackward0>)\n"
     ]
    },
    {
     "name": "stderr",
     "output_type": "stream",
     "text": [
      "Training...:  26%|██▌       | 26/100 [00:01<00:02, 27.53it/s]"
     ]
    },
    {
     "name": "stdout",
     "output_type": "stream",
     "text": [
      "TOTAL LOSS: tensor(29285.5533, dtype=torch.float64, grad_fn=<MulBackward0>)\n",
      "TOTAL LOSS: tensor(26503.5704, dtype=torch.float64, grad_fn=<MulBackward0>)\n",
      "TOTAL LOSS: tensor(28858.5885, dtype=torch.float64, grad_fn=<MulBackward0>)\n",
      "TOTAL LOSS: tensor(28331.8987, dtype=torch.float64, grad_fn=<MulBackward0>)\n",
      "TOTAL LOSS: tensor(27785.9587, dtype=torch.float64, grad_fn=<MulBackward0>)\n",
      "TOTAL LOSS: tensor(27786.9145, dtype=torch.float64, grad_fn=<MulBackward0>)\n",
      "TOTAL LOSS: tensor(29197.5630, dtype=torch.float64, grad_fn=<MulBackward0>)\n",
      "TOTAL LOSS: tensor(25575.3639, dtype=torch.float64, grad_fn=<MulBackward0>)\n",
      "TOTAL LOSS: tensor(28307.5034, dtype=torch.float64, grad_fn=<MulBackward0>)\n",
      "TOTAL LOSS: tensor(27284.0421, dtype=torch.float64, grad_fn=<MulBackward0>)\n",
      "TOTAL LOSS: tensor(26844.9332, dtype=torch.float64, grad_fn=<MulBackward0>)\n",
      "TOTAL LOSS: tensor(28080.9081, dtype=torch.float64, grad_fn=<MulBackward0>)\n",
      "TOTAL LOSS: tensor(26569.6334, dtype=torch.float64, grad_fn=<MulBackward0>)\n",
      "TOTAL LOSS: tensor(26591.9639, dtype=torch.float64, grad_fn=<MulBackward0>)\n",
      "TOTAL LOSS: tensor(26804.9897, dtype=torch.float64, grad_fn=<MulBackward0>)\n",
      "TOTAL LOSS: tensor(27621.9371, dtype=torch.float64, grad_fn=<MulBackward0>)\n",
      "TOTAL LOSS: tensor(26926.4155, dtype=torch.float64, grad_fn=<MulBackward0>)\n"
     ]
    },
    {
     "name": "stderr",
     "output_type": "stream",
     "text": [
      "Training...:  54%|█████▍    | 54/100 [00:01<00:00, 59.09it/s]"
     ]
    },
    {
     "name": "stdout",
     "output_type": "stream",
     "text": [
      "TOTAL LOSS: tensor(28511.1321, dtype=torch.float64, grad_fn=<MulBackward0>)\n",
      "TOTAL LOSS: tensor(24852.7514, dtype=torch.float64, grad_fn=<MulBackward0>)\n",
      "TOTAL LOSS: tensor(27803.1810, dtype=torch.float64, grad_fn=<MulBackward0>)\n",
      "TOTAL LOSS: tensor(26457.0396, dtype=torch.float64, grad_fn=<MulBackward0>)\n",
      "TOTAL LOSS: tensor(29493.3289, dtype=torch.float64, grad_fn=<MulBackward0>)\n",
      "TOTAL LOSS: tensor(29477.1872, dtype=torch.float64, grad_fn=<MulBackward0>)\n",
      "TOTAL LOSS: tensor(27288.0010, dtype=torch.float64, grad_fn=<MulBackward0>)\n",
      "TOTAL LOSS: tensor(24819.4087, dtype=torch.float64, grad_fn=<MulBackward0>)\n",
      "TOTAL LOSS: tensor(26957.9088, dtype=torch.float64, grad_fn=<MulBackward0>)\n",
      "TOTAL LOSS: tensor(26214.7897, dtype=torch.float64, grad_fn=<MulBackward0>)\n",
      "TOTAL LOSS: tensor(30140.9625, dtype=torch.float64, grad_fn=<MulBackward0>)\n",
      "TOTAL LOSS: tensor(25201.5298, dtype=torch.float64, grad_fn=<MulBackward0>)\n",
      "TOTAL LOSS: tensor(27082.6331, dtype=torch.float64, grad_fn=<MulBackward0>)\n",
      "TOTAL LOSS: tensor(25907.1148, dtype=torch.float64, grad_fn=<MulBackward0>)\n",
      "TOTAL LOSS: tensor(27472.4272, dtype=torch.float64, grad_fn=<MulBackward0>)\n",
      "TOTAL LOSS: tensor(25337.4636, dtype=torch.float64, grad_fn=<MulBackward0>)\n",
      "TOTAL LOSS: tensor(26578.6085, dtype=torch.float64, grad_fn=<MulBackward0>)\n",
      "TOTAL LOSS: tensor(24908.0160, dtype=torch.float64, grad_fn=<MulBackward0>)\n",
      "TOTAL LOSS: tensor(23566.6186, dtype=torch.float64, grad_fn=<MulBackward0>)\n",
      "TOTAL LOSS: tensor(26705.7340, dtype=torch.float64, grad_fn=<MulBackward0>)\n"
     ]
    },
    {
     "name": "stderr",
     "output_type": "stream",
     "text": [
      "Training...:  63%|██████▎   | 63/100 [00:02<00:00, 65.63it/s]"
     ]
    },
    {
     "name": "stdout",
     "output_type": "stream",
     "text": [
      "TOTAL LOSS: tensor(26591.1300, dtype=torch.float64, grad_fn=<MulBackward0>)\n",
      "TOTAL LOSS: tensor(25211.7974, dtype=torch.float64, grad_fn=<MulBackward0>)\n",
      "TOTAL LOSS: tensor(27117.2953, dtype=torch.float64, grad_fn=<MulBackward0>)\n",
      "TOTAL LOSS: tensor(27339.1116, dtype=torch.float64, grad_fn=<MulBackward0>)\n",
      "TOTAL LOSS: tensor(25608.2956, dtype=torch.float64, grad_fn=<MulBackward0>)\n",
      "TOTAL LOSS: tensor(26858.1131, dtype=torch.float64, grad_fn=<MulBackward0>)\n",
      "TOTAL LOSS: tensor(25283.5155, dtype=torch.float64, grad_fn=<MulBackward0>)\n",
      "TOTAL LOSS: tensor(24640.7181, dtype=torch.float64, grad_fn=<MulBackward0>)\n",
      "TOTAL LOSS: tensor(23287.1336, dtype=torch.float64, grad_fn=<MulBackward0>)\n",
      "TOTAL LOSS: tensor(25620.6862, dtype=torch.float64, grad_fn=<MulBackward0>)\n",
      "TOTAL LOSS: tensor(26896.9099, dtype=torch.float64, grad_fn=<MulBackward0>)\n",
      "TOTAL LOSS: tensor(23935.0752, dtype=torch.float64, grad_fn=<MulBackward0>)\n",
      "TOTAL LOSS: tensor(24989.0380, dtype=torch.float64, grad_fn=<MulBackward0>)\n",
      "TOTAL LOSS: tensor(23776.9530, dtype=torch.float64, grad_fn=<MulBackward0>)\n",
      "TOTAL LOSS: tensor(23842.9935, dtype=torch.float64, grad_fn=<MulBackward0>)\n",
      "TOTAL LOSS: tensor(24937.0971, dtype=torch.float64, grad_fn=<MulBackward0>)\n",
      "TOTAL LOSS: tensor(27249.8640, dtype=torch.float64, grad_fn=<MulBackward0>)\n",
      "TOTAL LOSS: tensor(24987.7302, dtype=torch.float64, grad_fn=<MulBackward0>)\n"
     ]
    },
    {
     "name": "stderr",
     "output_type": "stream",
     "text": [
      "Training...:  81%|████████  | 81/100 [00:02<00:00, 72.47it/s]"
     ]
    },
    {
     "name": "stdout",
     "output_type": "stream",
     "text": [
      "TOTAL LOSS: tensor(25082.7705, dtype=torch.float64, grad_fn=<MulBackward0>)\n",
      "TOTAL LOSS: tensor(23041.6613, dtype=torch.float64, grad_fn=<MulBackward0>)\n",
      "TOTAL LOSS: tensor(23891.8830, dtype=torch.float64, grad_fn=<MulBackward0>)\n",
      "TOTAL LOSS: tensor(23277.7531, dtype=torch.float64, grad_fn=<MulBackward0>)\n",
      "TOTAL LOSS: tensor(24529.0623, dtype=torch.float64, grad_fn=<MulBackward0>)\n",
      "TOTAL LOSS: tensor(24884.8836, dtype=torch.float64, grad_fn=<MulBackward0>)\n",
      "TOTAL LOSS: tensor(23822.6003, dtype=torch.float64, grad_fn=<MulBackward0>)\n",
      "TOTAL LOSS: tensor(26182.1151, dtype=torch.float64, grad_fn=<MulBackward0>)\n",
      "TOTAL LOSS: tensor(23064.4998, dtype=torch.float64, grad_fn=<MulBackward0>)\n",
      "TOTAL LOSS: tensor(23255.5666, dtype=torch.float64, grad_fn=<MulBackward0>)\n",
      "TOTAL LOSS: tensor(23898.8417, dtype=torch.float64, grad_fn=<MulBackward0>)\n",
      "TOTAL LOSS: tensor(23548.1770, dtype=torch.float64, grad_fn=<MulBackward0>)\n",
      "TOTAL LOSS: tensor(23955.0673, dtype=torch.float64, grad_fn=<MulBackward0>)\n",
      "TOTAL LOSS: tensor(25764.8234, dtype=torch.float64, grad_fn=<MulBackward0>)\n",
      "TOTAL LOSS: tensor(24843.0480, dtype=torch.float64, grad_fn=<MulBackward0>)\n",
      "TOTAL LOSS: tensor(25391.6536, dtype=torch.float64, grad_fn=<MulBackward0>)\n"
     ]
    },
    {
     "name": "stderr",
     "output_type": "stream",
     "text": [
      "Training...: 100%|██████████| 100/100 [00:02<00:00, 40.17it/s]"
     ]
    },
    {
     "name": "stdout",
     "output_type": "stream",
     "text": [
      "TOTAL LOSS: tensor(24764.6034, dtype=torch.float64, grad_fn=<MulBackward0>)\n",
      "TOTAL LOSS: tensor(23825.4431, dtype=torch.float64, grad_fn=<MulBackward0>)\n",
      "TOTAL LOSS: tensor(24801.7792, dtype=torch.float64, grad_fn=<MulBackward0>)\n",
      "TOTAL LOSS: tensor(24989.4525, dtype=torch.float64, grad_fn=<MulBackward0>)\n",
      "TOTAL LOSS: tensor(23503.1854, dtype=torch.float64, grad_fn=<MulBackward0>)\n",
      "TOTAL LOSS: tensor(24679.4046, dtype=torch.float64, grad_fn=<MulBackward0>)\n",
      "TOTAL LOSS: tensor(22602.7865, dtype=torch.float64, grad_fn=<MulBackward0>)\n",
      "TOTAL LOSS: tensor(23173.6666, dtype=torch.float64, grad_fn=<MulBackward0>)\n",
      "TOTAL LOSS: tensor(26187.4634, dtype=torch.float64, grad_fn=<MulBackward0>)\n",
      "TOTAL LOSS: tensor(23821.8958, dtype=torch.float64, grad_fn=<MulBackward0>)\n",
      "TOTAL LOSS: tensor(22765.2166, dtype=torch.float64, grad_fn=<MulBackward0>)\n",
      "TOTAL LOSS: tensor(24716.5229, dtype=torch.float64, grad_fn=<MulBackward0>)\n"
     ]
    },
    {
     "name": "stderr",
     "output_type": "stream",
     "text": [
      "\n"
     ]
    },
    {
     "data": {
      "text/plain": [
       "LinearRegression(\n",
       "  (m): Distribution()\n",
       "  (b): Distribution()\n",
       ")"
      ]
     },
     "execution_count": 8,
     "metadata": {},
     "output_type": "execute_result"
    }
   ],
   "source": [
    "res = training(x, y, epochs=100)\n",
    "res"
   ]
  },
  {
   "cell_type": "code",
   "execution_count": 9,
   "metadata": {},
   "outputs": [
    {
     "name": "stdout",
     "output_type": "stream",
     "text": [
      "Parameter containing:\n",
      "tensor(0.0699, requires_grad=True)\n"
     ]
    }
   ],
   "source": [
    "print(res.m.mu)"
   ]
  },
  {
   "cell_type": "code",
   "execution_count": 10,
   "metadata": {},
   "outputs": [
    {
     "name": "stdout",
     "output_type": "stream",
     "text": [
      "Parameter containing:\n",
      "tensor(0.9020, requires_grad=True)\n"
     ]
    }
   ],
   "source": [
    "print(res.m.std)"
   ]
  },
  {
   "cell_type": "code",
   "execution_count": 11,
   "metadata": {},
   "outputs": [
    {
     "name": "stdout",
     "output_type": "stream",
     "text": [
      "Parameter containing:\n",
      "tensor(0.0755, requires_grad=True)\n"
     ]
    }
   ],
   "source": [
    "print(res.b.mu)"
   ]
  },
  {
   "cell_type": "code",
   "execution_count": 12,
   "metadata": {},
   "outputs": [
    {
     "name": "stdout",
     "output_type": "stream",
     "text": [
      "Parameter containing:\n",
      "tensor(0.9744, requires_grad=True)\n"
     ]
    }
   ],
   "source": [
    "print(res.b.std)"
   ]
  }
 ],
 "metadata": {
  "kernelspec": {
   "display_name": "Python 3",
   "language": "python",
   "name": "python3"
  },
  "language_info": {
   "codemirror_mode": {
    "name": "ipython",
    "version": 3
   },
   "file_extension": ".py",
   "mimetype": "text/x-python",
   "name": "python",
   "nbconvert_exporter": "python",
   "pygments_lexer": "ipython3",
   "version": "3.9.0"
  },
  "orig_nbformat": 4
 },
 "nbformat": 4,
 "nbformat_minor": 2
}
