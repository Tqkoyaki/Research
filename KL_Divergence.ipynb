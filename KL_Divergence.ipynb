{
 "cells": [
  {
   "cell_type": "code",
   "execution_count": null,
   "metadata": {},
   "outputs": [],
   "source": [
    "import pandas as pd\n",
    "\n",
    "# Obtains the file and cleans it\n",
    "FILE_PATH = 'data/Advertising.csv' \n",
    "df = pd.read_csv(FILE_PATH).drop('Unnamed: 0', axis=1)\n",
    "\n",
    "# Obtains our x and y vectors\n",
    "x = df.TV.to_numpy()\n",
    "y = df.Sales.to_numpy()\n",
    "\n",
    "# Displays the dataframe\n",
    "df"
   ]
  },
  {
   "cell_type": "code",
   "execution_count": 4,
   "metadata": {},
   "outputs": [
    {
     "ename": "IndentationError",
     "evalue": "expected an indented block (2706030897.py, line 21)",
     "output_type": "error",
     "traceback": [
      "\u001b[1;36m  Cell \u001b[1;32mIn[4], line 21\u001b[1;36m\u001b[0m\n\u001b[1;33m    def q(self):\u001b[0m\n\u001b[1;37m                ^\u001b[0m\n\u001b[1;31mIndentationError\u001b[0m\u001b[1;31m:\u001b[0m expected an indented block\n"
     ]
    }
   ],
   "source": [
    "import torch\n",
    "import torch.nn as nn\n",
    "import torch.optim as optim\n",
    "from tqdm import tqdm\n",
    "\n",
    "class KL_Divergence(nn.module):\n",
    "    def __init__(self, rand_size=100):\n",
    "        # The parameters needed to do divergence\n",
    "        self.mu_m = nn.Parameter(torch.tensor(1.0), requires_grad=True)\n",
    "        self.sig_m = nn.Parameter(torch.tensor(1.0), rquires_grad=True)\n",
    "        self.mu_b = nn.Parameter(torch.tensor(1.0), requires_grad=True)\n",
    "        self.sig_b = nn.Parameter(torch.tensor(1.0), require_grad=True)\n",
    "        self.noise = nn.Parameter(torch.tensor(1.0), require_grad=True)\n",
    "        \n",
    "        # The size parameter used for random generation\n",
    "        self.rand_size = rand_size\n",
    "        \n",
    "    def forward(self, x, y):\n",
    "        # Randomly generated slope and intercept\n",
    "        m = torch.normal(self.mu_m, self.sig_m, self.rand_size)\n",
    "        b = torch.normal(self.mu_b, self.sig_b, self.rand_size)\n",
    "        \n",
    "        # Gets a list of values to sum\n",
    "        res = [self.log_q(m[j], b[j]) - self.log_p(m[j], b[j], x, y) for j in range(len(m))]\n",
    "        \n",
    "        # Returns the sum of the values\n",
    "        return torch.sum(res)\n",
    "    \n",
    "        \n",
    "    def log_q(self, m_j, b_j):\n",
    "        # Calculates the log_q for each m_j and b_j\n",
    "        log_m = -((m_j - self.mu_m) ** 2 / 2 * self.sig_m ** 2 + 0.5 * torch.log(self.sig_m ** 2))\n",
    "        log_b = -((b_j - self.mu_b) ** 2 / 2 * self.sig_b ** 2 + 0.5 * torch.log(self.sig_b ** 2))\n",
    "        return log_m + log_b\n",
    "    \n",
    "    def log_p(self, m_j, b_j, x, y):\n",
    "        # Calculates the log_p for each m_j and b_j\n",
    "        vals = [(y[i] - x[i] * m_j - b_j) ** 2 / 2 * self.noise ** 2 for i in range(len(x))]\n",
    "        return torch.log(torch.sum(vals))\n",
    "    \n",
    "    # Trains the specific model\n",
    "    def train(x, y, model=KL_Divergence(), epochs=5, frac=0.1):\n",
    "        optimizer = optim.Adam(model.parameters())\n",
    "        \n",
    "        for epoch in tqdm(range(epochs), desc=\"Training...\"):\n",
    "            # Zeros gradiant for training\n",
    "            optimizer.zero_grad()\n",
    "            \n",
    "            # Random selection of data points per iteration\n",
    "            indices = np.random.randint(low=0, high=len(x), size=int(len(x) * frac))\n",
    "            \n",
    "            # Calculates likelihood\n",
    "            loglik = model(x[indices], y[indices])\n",
    "            #loglik = model(x, y)\n",
    "            \n",
    "            # Mean of loglik\n",
    "            e = -torch.mean(loglik)\n",
    "            \n",
    "            # Updates parameters\n",
    "            e.backward()\n",
    "            optimizer.step()\n",
    "            \n",
    "        return model"
   ]
  },
  {
   "cell_type": "code",
   "execution_count": null,
   "metadata": {},
   "outputs": [],
   "source": []
  }
 ],
 "metadata": {
  "kernelspec": {
   "display_name": "Python 3",
   "language": "python",
   "name": "python3"
  },
  "language_info": {
   "codemirror_mode": {
    "name": "ipython",
    "version": 3
   },
   "file_extension": ".py",
   "mimetype": "text/x-python",
   "name": "python",
   "nbconvert_exporter": "python",
   "pygments_lexer": "ipython3",
   "version": "3.9.0"
  },
  "orig_nbformat": 4
 },
 "nbformat": 4,
 "nbformat_minor": 2
}
