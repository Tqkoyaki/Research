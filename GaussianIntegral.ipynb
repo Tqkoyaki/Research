{
 "cells": [
  {
   "cell_type": "code",
   "execution_count": null,
   "metadata": {},
   "outputs": [],
   "source": [
    "\n",
    "# Imports\n",
    "import pandas as pd\n",
    "import numpy as np\n",
    "import math\n",
    "import seaborn as sns\n",
    "import scipy.stats as stats"
   ]
  },
  {
   "attachments": {},
   "cell_type": "markdown",
   "metadata": {},
   "source": [
    "### Gaussian Integral\n",
    "We want to assess the integral of the product of two Gaussian functions.\n",
    "$$\\int_{-\\infty}^{\\infty} f(x) g(x) dx$$\n",
    "\n",
    "$$ where $$\n",
    "\n",
    "$$f(x) = \\frac{1}{\\sqrt{2 \\pi \\sigma_1^2}} exp({-\\frac{(x - \\mu_1)^2}{2 \\sigma_1^2}}) \\quad \\& \\quad g(x) = \\frac{1}{\\sqrt{2 \\pi \\sigma_2^2}} exp({-\\frac{(\\mu_2 - x)^2}{2 \\sigma_2^2}})$$\n",
    "\n",
    "<br></br>\n",
    "\n",
    "However, we are not able to calculate an infinite integral with a computer. We will replace the bounds of $(-\\infty,\\infty)$ with a finite interval of $(a, b)$.\n",
    "$$\\int_{a}^{b} f(x) g(x) dx$$\n",
    "\n",
    "We will also calculate the integral using the following method:\n",
    "$$\\sum_{i=1}^{N} \\sqrt{\\Delta{x}} f(a + i \\Delta{x}) * \\sqrt{\\Delta{x}} g(a + i \\Delta{x})$$"
   ]
  },
  {
   "cell_type": "code",
   "execution_count": null,
   "metadata": {},
   "outputs": [],
   "source": [
    "# Defines the Integration parameters\n",
    "bounds = (-5, 5)\n",
    "N = 100\n",
    "delta = (bounds[1] - bounds[0]) / N\n",
    "\n",
    "# Defines the Gaussian parameters\n",
    "mu1 = 0\n",
    "mu2 = 1\n",
    "sig1 = 1\n",
    "sig2 = 1"
   ]
  },
  {
   "cell_type": "code",
   "execution_count": null,
   "metadata": {},
   "outputs": [],
   "source": [
    "# First Gaussian Function\n",
    "def f(x, mu1=mu1, sig1=sig1):\n",
    "    return (1 / (math.sqrt(2 * math.pi) * sig1)) * math.exp((-1 * ((mu1 - x) ** 2)) / (2 * (sig1 ** 2)))"
   ]
  },
  {
   "cell_type": "code",
   "execution_count": null,
   "metadata": {},
   "outputs": [],
   "source": [
    "# Second Gaussian Function\n",
    "def g(x, mu2=mu2, sig2=sig2):\n",
    "    return (1 / (math.sqrt(2 * math.pi) * sig2)) * math.exp((-1 * ((x - mu2) ** 2)) / (2 * (sig2 ** 2)))"
   ]
  },
  {
   "cell_type": "code",
   "execution_count": null,
   "metadata": {},
   "outputs": [],
   "source": [
    "# Creates the two matrixes Ai and Bi\n",
    "Ai = np.vectorize(f)(np.arange(bounds[0], bounds[1] + delta, delta))\n",
    "Bi = np.vectorize(g)(np.arange(bounds[0], bounds[1] + delta, delta))\n",
    "\n",
    "# Scales the matrixes\n",
    "Ai *= math.sqrt(delta)\n",
    "Bi *= math.sqrt(delta)"
   ]
  },
  {
   "cell_type": "code",
   "execution_count": null,
   "metadata": {},
   "outputs": [],
   "source": [
    "# Dot product of the matrixes\n",
    "np.matmul(Ai, Bi)"
   ]
  },
  {
   "attachments": {},
   "cell_type": "markdown",
   "metadata": {},
   "source": [
    "### Visualizing Gaussian Curves\n",
    "\n",
    "Below displays the gaussian curves that we are currently calculating the product of."
   ]
  },
  {
   "cell_type": "code",
   "execution_count": null,
   "metadata": {},
   "outputs": [],
   "source": [
    "# Visualization of the two curves\n",
    "def norm_dis():\n",
    "    x = np.linspace(-10, 10, 1000)\n",
    "    y1 = stats.norm.pdf(x, loc=mu1, scale=sig1)\n",
    "    y2 = stats.norm.pdf(x, loc=mu2, scale=sig2)\n",
    "    plt = sns.lineplot(y1)\n",
    "    plt.add_line(sns.lineplot(y2).lines[0])\n",
    "    plt.legend(['f(x)', '', 'g(x)'])\n",
    "\n",
    "norm_dis()"
   ]
  },
  {
   "attachments": {},
   "cell_type": "markdown",
   "metadata": {},
   "source": [
    "### Adjusting N\n",
    "\n",
    "To find the value of the integral, with the bounds of $(-5, 5)$, we will adjust the number of points used to calculate the integral meaning adjusting the value of $N$ and plotting the results to visualize if the integral converges to a solution as N increases."
   ]
  },
  {
   "cell_type": "code",
   "execution_count": null,
   "metadata": {},
   "outputs": [],
   "source": [
    "# Calculates product between two gaussian curves\n",
    "def gauss_product(mu1=mu1, mu2=mu2, sig1=sig1, sig2=sig2, a=bounds[0], b=bounds[1], N=N):\n",
    "    # Calculates new delta\n",
    "    delta = (b - a) / N\n",
    "    \n",
    "    # Creates the two matrixes Ai and Bi\n",
    "    Ai = np.vectorize(f)(np.arange(a, b + delta, delta), mu1=mu1, sig1=sig1)\n",
    "    Bi = np.vectorize(g)(np.arange(a, b + delta, delta), mu2=mu2, sig2=sig2)\n",
    "    \n",
    "    # Scales the matrixes\n",
    "    Ai *= math.sqrt(delta)\n",
    "    Bi *= math.sqrt(delta)\n",
    "    \n",
    "    return np.matmul(Ai, Bi)"
   ]
  },
  {
   "cell_type": "code",
   "execution_count": null,
   "metadata": {},
   "outputs": [],
   "source": [
    "res = np.vectorize(gauss_product)(N=np.arange(1, 100, 1))\n",
    "\n",
    "# Plots the results\n",
    "plt = sns.lineplot(res)\n",
    "plt.set_title('Gaussian Integral with Bounds (-5, 5) and Pivotable N')\n",
    "plt.set_xlabel('N')\n",
    "plt.set_ylabel('Integral Value')\n",
    "plt.lines[0].set_color('red')\n",
    "\n",
    "print('The integral is approximately', res[-1])"
   ]
  },
  {
   "attachments": {},
   "cell_type": "markdown",
   "metadata": {},
   "source": [
    "### Trying Different Bounds\n",
    "\n",
    "We want to see how different bounds of the integral affect the resulting product because if we recall, we are using fixed bounds but our main integral is from $(-\\infty, \\infty)$."
   ]
  },
  {
   "cell_type": "code",
   "execution_count": null,
   "metadata": {},
   "outputs": [],
   "source": [
    "# Lets Increase the Bounds to (-10, 10) and (-100, 100) and see what happens\n",
    "res2 = np.vectorize(gauss_product)(N=np.arange(1, 100, 1), a=-10, b=10)\n",
    "res3 = np.vectorize(gauss_product)(N=np.arange(1, 100, 1), a=-100, b=100)\n",
    "\n",
    "# Plots the results\n",
    "plt = sns.lineplot(res)\n",
    "plt.add_line(sns.lineplot(res2).lines[0])\n",
    "plt.add_line(sns.lineplot(res3).lines[0])\n",
    "\n",
    "plt.set_title('Gaussian Integral with Different Bounds')\n",
    "plt.set_xlabel('N')\n",
    "plt.set_ylabel('Integral Value')\n",
    "\n",
    "print('The integral for bounds (-5, 5) is approximately', res[-1])\n",
    "print('The integral for bounds (-10, 10) is approximately', res2[-1])\n",
    "print('The integral for bounds (-100, 100) is approximately', res3[-1])"
   ]
  },
  {
   "attachments": {},
   "cell_type": "markdown",
   "metadata": {},
   "source": [
    "### Adjusting Gaussian Parameters\n",
    "No matter the bounds, the results converges to a number close to $0.21969$ because bigger bounds mostly dealt with the outliers which get smaller the further the bounds increase. The current assumption I am making from logical deduction is that the larger the sigma gets, the bigger the bounds we will need to make to converge to a more realistic solution. When we increase bounds, we need to make sure to increase the N parameter because larger bounds took much longer to converge to the solution as shown from the analysis above.\n",
    "\n",
    "Here we will begin by adjusting $\\mu_1$ and then adjust $\\mu_2$ to see how it affects the product. This is our main goal from this integral but after this is done for further analysis, we want to see how $\\sigma_1$ and $\\sigma_2$ affect the results."
   ]
  },
  {
   "cell_type": "code",
   "execution_count": null,
   "metadata": {},
   "outputs": [],
   "source": [
    "res_mu1 = np.vectorize(gauss_product)(mu1=np.arange(0, 20, 1))\n",
    "\n",
    "plt = sns.lineplot(res_mu1)\n",
    "\n",
    "plt.set_title('Gaussian Integral with Different Mu1 Values')\n",
    "plt.set_xlabel('Mu1')\n",
    "plt.set_ylabel('Integral Value')"
   ]
  },
  {
   "cell_type": "code",
   "execution_count": null,
   "metadata": {},
   "outputs": [],
   "source": [
    "res_mu2 = np.vectorize(gauss_product)(mu2=np.arange(0, 20, 1))\n",
    "\n",
    "plt = sns.lineplot(res_mu2)\n",
    "\n",
    "plt.set_title('Gaussian Integral with Different Mu2 Values')\n",
    "plt.set_xlabel('Mu2')\n",
    "plt.set_ylabel('Integral Value')"
   ]
  },
  {
   "cell_type": "code",
   "execution_count": null,
   "metadata": {},
   "outputs": [],
   "source": [
    "res_sig1 = np.vectorize(gauss_product)(sig1=np.arange(1, 20, 1))\n",
    "\n",
    "plt = sns.lineplot(res_sig1)\n",
    "\n",
    "plt.set_title('Gaussian Integral with Different Sig1 Values')\n",
    "plt.set_xlabel('Sig1')\n",
    "plt.set_ylabel('Integral Value')"
   ]
  },
  {
   "cell_type": "code",
   "execution_count": null,
   "metadata": {},
   "outputs": [],
   "source": [
    "res_sig2 = np.vectorize(gauss_product)(sig2=np.arange(1, 20, 1))\n",
    "\n",
    "plt = sns.lineplot(res_sig2)\n",
    "\n",
    "plt.set_title('Gaussian Integral with Different Sig2 Values')\n",
    "plt.set_xlabel('Sig2')\n",
    "plt.set_ylabel('Integral Value')"
   ]
  },
  {
   "cell_type": "code",
   "execution_count": null,
   "metadata": {},
   "outputs": [],
   "source": [
    "res_muboth = np.vectorize(gauss_product)(mu1=np.arange(0, 20, 1), mu2=np.arange(1, 21, 1))\n",
    "\n",
    "plt = sns.lineplot(res_muboth)\n",
    "\n",
    "plt.set_title('Gaussian Integral with Different Mu values Increasing Together Values')\n",
    "plt.set_xlabel('Mu1, Mu2 = Mu1 + 1')\n",
    "plt.set_ylabel('Integral Value')"
   ]
  },
  {
   "attachments": {},
   "cell_type": "markdown",
   "metadata": {},
   "source": [
    "### Conclusion\n",
    "\n",
    "From the results above, we can assess that as mu or sigma get bigger, the integral value gets smaller."
   ]
  }
 ],
 "metadata": {
  "kernelspec": {
   "display_name": "Python 3",
   "language": "python",
   "name": "python3"
  },
  "language_info": {
   "codemirror_mode": {
    "name": "ipython",
    "version": 3
   },
   "file_extension": ".py",
   "mimetype": "text/x-python",
   "name": "python",
   "nbconvert_exporter": "python",
   "pygments_lexer": "ipython3",
   "version": "3.9.0"
  },
  "orig_nbformat": 4,
  "vscode": {
   "interpreter": {
    "hash": "bb2f4d8cafbb5e6a1a57594b656f525a815999bc8da94e60b349016f17e73727"
   }
  }
 },
 "nbformat": 4,
 "nbformat_minor": 2
}
