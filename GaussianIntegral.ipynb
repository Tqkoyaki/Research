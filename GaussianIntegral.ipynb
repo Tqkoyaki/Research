{
 "cells": [
  {
   "cell_type": "code",
   "execution_count": 27,
   "metadata": {},
   "outputs": [],
   "source": [
    "\n",
    "# Imports\n",
    "import pandas as pd\n",
    "import numpy as np\n",
    "import math\n",
    "import seaborn as sns"
   ]
  },
  {
   "attachments": {},
   "cell_type": "markdown",
   "metadata": {},
   "source": [
    "### Gaussian Integral\n",
    "We want to assess the integral of the product of two Gaussian functions.\n",
    "$$\\int_{-\\infty}^{\\infty} f(x) g(x) dx$$\n",
    "\n",
    "However, we are not able to calculate an infinite integral with a computer. We will replace the bounds of (-$\\infty$,$\\infty$) with a finite interval.\n",
    "$$\\int_{a}^{b} f(x) g(x) dx$$\n",
    "\n",
    "We will also calculate the integral using the following method:\n",
    "$$\\sum_{i=1}^{N} \\sqrt{\\Delta{x}} f(a + i \\Delta{x}) * \\sqrt{\\Delta{x}} g(a + i \\Delta{x})$$\n",
    "\n",
    "What is also important to note is what the Gaussian functions are defined as:\n",
    "$$f(x) = \\frac{1}{\\sqrt{2 \\pi \\sigma_1^2}} exp({-\\frac{(x - \\mu_1)^2}{2 \\sigma_1^2}})$$\n",
    "\n",
    "and\n",
    "\n",
    "$$g(x) = \\frac{1}{\\sqrt{2 \\pi \\sigma_2^2}} exp({-\\frac{(\\mu_2 - x)^2}{2 \\sigma_2^2}})$$"
   ]
  },
  {
   "cell_type": "code",
   "execution_count": 25,
   "metadata": {},
   "outputs": [],
   "source": [
    "# Defines the Integration parameters\n",
    "bounds = (-5, 5)\n",
    "N = 100\n",
    "delta = (bounds[1] - bounds[0]) / N\n",
    "\n",
    "# Defines the Gaussian parameters\n",
    "mu1 = 0\n",
    "mu2 = 1\n",
    "sig1 = 1\n",
    "sig2 = 1"
   ]
  },
  {
   "cell_type": "code",
   "execution_count": 8,
   "metadata": {},
   "outputs": [],
   "source": [
    "# First Gaussian Function\n",
    "def f(x, mu1=mu1, sig1=sig1):\n",
    "    return (1 / (math.sqrt(2 * math.pi) * sig1)) * math.exp((-1 * ((mu1 - x) ** 2)) / (2 * (sig1 ** 2)))"
   ]
  },
  {
   "cell_type": "code",
   "execution_count": 9,
   "metadata": {},
   "outputs": [],
   "source": [
    "# Second Gaussian Function\n",
    "def g(x, mu2=mu2, sig2=sig2):\n",
    "    return (1 / (math.sqrt(2 * math.pi) * sig2)) * math.exp((-1 * ((x - mu2) ** 2)) / (2 * (sig2 ** 2)))"
   ]
  },
  {
   "cell_type": "code",
   "execution_count": 22,
   "metadata": {},
   "outputs": [],
   "source": [
    "# Creates the two matrixes Ai and Bi\n",
    "Ai = np.vectorize(f)(np.arange(bounds[0], bounds[1] + delta, delta))\n",
    "Bi = np.vectorize(g)(np.arange(bounds[0], bounds[1] + delta, delta))\n",
    "\n",
    "# Scales the matrixes\n",
    "Ai *= math.sqrt(delta)\n",
    "Bi *= math.sqrt(delta)"
   ]
  },
  {
   "cell_type": "code",
   "execution_count": 23,
   "metadata": {},
   "outputs": [
    {
     "data": {
      "text/plain": [
       "0.21969564472073824"
      ]
     },
     "execution_count": 23,
     "metadata": {},
     "output_type": "execute_result"
    }
   ],
   "source": [
    "# Dot product of the matrixes\n",
    "np.matmul(Ai, Bi)"
   ]
  },
  {
   "attachments": {},
   "cell_type": "markdown",
   "metadata": {},
   "source": [
    "### Adjusting N\n",
    "\n",
    "To find the value of the integral, with the bounds of ``(-5, 5)``, we will adjust the number of points used to calculate the integral meaning adjusting the value of ``N`` and plotting the results to visualize the plot converge to the solution."
   ]
  },
  {
   "cell_type": "code",
   "execution_count": 28,
   "metadata": {},
   "outputs": [],
   "source": [
    "# Creates previous algorithm with a pivotable N value\n",
    "def pivot_N(N):\n",
    "    # Calculates new delta\n",
    "    delta = (bounds[1] - bounds[0]) / N\n",
    "    \n",
    "    # Creates the two matrixes Ai and Bi\n",
    "    Ai = np.vectorize(f)(np.arange(bounds[0], bounds[1] + delta, delta))\n",
    "    Bi = np.vectorize(g)(np.arange(bounds[0], bounds[1] + delta, delta))\n",
    "    \n",
    "    # Scales the matrixes\n",
    "    Ai *= math.sqrt(delta)\n",
    "    Bi *= math.sqrt(delta)\n",
    "    \n",
    "    return np.matmul(Ai, Bi)"
   ]
  },
  {
   "cell_type": "code",
   "execution_count": 45,
   "metadata": {},
   "outputs": [
    {
     "data": {
      "image/png": "[encoded data removed]",
      "text/plain": [
       "<Figure size 640x480 with 1 Axes>"
      ]
     },
     "metadata": {},
     "output_type": "display_data"
    }
   ],
   "source": [
    "# Obtains results from the pivot_N function\n",
    "res = np.vectorize(pivot_N)(np.arange(1, 100, 1))\n",
    "\n",
    "# Plots the results\n",
    "plt = sns.lineplot(res)\n",
    "plt.set_title('Gaussian Integral with Bounds (-5, 5) and Pivotable N')\n",
    "plt.set_xlabel('N')\n",
    "plt.set_ylabel('Integral Value')\n",
    "plt.lines[0].set_color('red')"
   ]
  },
  {
   "cell_type": "code",
   "execution_count": 46,
   "metadata": {},
   "outputs": [
    {
     "data": {
      "text/plain": [
       "0.2196956447208079"
      ]
     },
     "execution_count": 46,
     "metadata": {},
     "output_type": "execute_result"
    }
   ],
   "source": [
    "# What it converges to\n",
    "res[-1]"
   ]
  }
 ],
 "metadata": {
  "kernelspec": {
   "display_name": "Python 3",
   "language": "python",
   "name": "python3"
  },
  "language_info": {
   "codemirror_mode": {
    "name": "ipython",
    "version": 3
   },
   "file_extension": ".py",
   "mimetype": "text/x-python",
   "name": "python",
   "nbconvert_exporter": "python",
   "pygments_lexer": "ipython3",
   "version": "3.9.0"
  },
  "orig_nbformat": 4,
  "vscode": {
   "interpreter": {
    "hash": "bb2f4d8cafbb5e6a1a57594b656f525a815999bc8da94e60b349016f17e73727"
   }
  }
 },
 "nbformat": 4,
 "nbformat_minor": 2
}
