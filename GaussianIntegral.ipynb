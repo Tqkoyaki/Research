{
 "cells": [
  {
   "cell_type": "code",
   "execution_count": 2,
   "metadata": {},
   "outputs": [],
   "source": [
    "# Imports\n",
    "import pandas as pd\n",
    "import numpy as np\n",
    "import math"
   ]
  },
  {
   "cell_type": "code",
   "execution_count": 3,
   "metadata": {},
   "outputs": [],
   "source": [
    "# Defines the Integration parameters\n",
    "bounds = (-5, 5)\n",
    "N = 100\n",
    "delta = (bounds[1] - bounds[0]) / N\n",
    "\n",
    "# Defines the Gaussian parameters\n",
    "mu1 = 0\n",
    "mu2 = 1\n",
    "sig1 = 1\n",
    "sig2 = 1"
   ]
  },
  {
   "cell_type": "code",
   "execution_count": 8,
   "metadata": {},
   "outputs": [],
   "source": [
    "# First Gaussian Function\n",
    "def f(x):\n",
    "    return (1 / (math.sqrt(2 * math.pi) * sig1)) * math.exp((-1 * ((mu1 - x) ** 2)) / (2 * (sig1 ** 2)))"
   ]
  },
  {
   "cell_type": "code",
   "execution_count": 9,
   "metadata": {},
   "outputs": [],
   "source": [
    "# Second Gaussian Function\n",
    "def g(x):\n",
    "    return (1 / (math.sqrt(2 * math.pi) * sig2)) * math.exp((-1 * ((x - mu2) ** 2)) / (2 * (sig2 ** 2)))"
   ]
  },
  {
   "cell_type": "code",
   "execution_count": 22,
   "metadata": {},
   "outputs": [],
   "source": [
    "# Creates the two matrixes Ai and Bi\n",
    "Ai = np.vectorize(f)(np.arange(bounds[0], bounds[1] + delta, delta))\n",
    "Bi = np.vectorize(g)(np.arange(bounds[0], bounds[1] + delta, delta))\n",
    "\n",
    "# Scales the matrixes\n",
    "Ai *= math.sqrt(delta)\n",
    "Bi *= math.sqrt(delta)"
   ]
  },
  {
   "cell_type": "code",
   "execution_count": 23,
   "metadata": {},
   "outputs": [
    {
     "data": {
      "text/plain": [
       "0.21969564472073824"
      ]
     },
     "execution_count": 23,
     "metadata": {},
     "output_type": "execute_result"
    }
   ],
   "source": [
    "# Dot product of the matrixes\n",
    "np.matmul(Ai, Bi)"
   ]
  }
 ],
 "metadata": {
  "kernelspec": {
   "display_name": "Python 3",
   "language": "python",
   "name": "python3"
  },
  "language_info": {
   "codemirror_mode": {
    "name": "ipython",
    "version": 3
   },
   "file_extension": ".py",
   "mimetype": "text/x-python",
   "name": "python",
   "nbconvert_exporter": "python",
   "pygments_lexer": "ipython3",
   "version": "3.9.0"
  },
  "orig_nbformat": 4,
  "vscode": {
   "interpreter": {
    "hash": "bb2f4d8cafbb5e6a1a57594b656f525a815999bc8da94e60b349016f17e73727"
   }
  }
 },
 "nbformat": 4,
 "nbformat_minor": 2
}
