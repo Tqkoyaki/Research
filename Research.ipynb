{
 "cells": [
  {
   "cell_type": "code",
   "execution_count": 1,
   "metadata": {},
   "outputs": [],
   "source": [
    "import pandas as pd\n",
    "import torch\n",
    "import sys"
   ]
  },
  {
   "cell_type": "code",
   "execution_count": 12,
   "metadata": {},
   "outputs": [],
   "source": [
    "# obtaining data\n",
    "df = pd.read_csv('data/Advertising.csv').drop('Unnamed: 0', axis=1)\n",
    "\n",
    "X = torch.Tensor([df.TV.to_numpy(),\n",
    "                  df.Radio.to_numpy()]).transpose(0, 1)\n",
    "y = torch.Tensor(df.Sales.to_numpy())"
   ]
  },
  {
   "cell_type": "code",
   "execution_count": 9,
   "metadata": {},
   "outputs": [
    {
     "data": {
      "text/plain": [
       "torch.Size([200, 2])"
      ]
     },
     "execution_count": 9,
     "metadata": {},
     "output_type": "execute_result"
    }
   ],
   "source": [
    "X.shape"
   ]
  },
  {
   "cell_type": "code",
   "execution_count": 10,
   "metadata": {},
   "outputs": [
    {
     "data": {
      "text/plain": [
       "torch.Size([200])"
      ]
     },
     "execution_count": 10,
     "metadata": {},
     "output_type": "execute_result"
    }
   ],
   "source": [
    "y.shape"
   ]
  },
  {
   "cell_type": "code",
   "execution_count": 6,
   "metadata": {},
   "outputs": [],
   "source": [
    "# prior parameters\n",
    "a0 = 1e-2\n",
    "b0 = 1e-4\n",
    "c0 = 1e-2\n",
    "d0 = 1e-4"
   ]
  },
  {
   "cell_type": "code",
   "execution_count": 7,
   "metadata": {},
   "outputs": [],
   "source": [
    "# pre-process data\n",
    "N = X.shape[0]\n",
    "D = 1\n",
    "if len(X.shape) > 1:\n",
    "    D = X.shape[1]\n",
    "\n",
    "X_corr = X.transpose(0, 1).matmul(X)\n",
    "Xy_corr = X.transpose(0, 1).matmul(y)\n",
    "\n",
    "an = a0 + N / 2\n",
    "gammaln_an = torch.lgamma(torch.Tensor([an]))\n",
    "cn = c0 + D / 2\n",
    "gammaln_cn = torch.lgamma(torch.Tensor([cn]))"
   ]
  },
  {
   "cell_type": "code",
   "execution_count": 8,
   "metadata": {},
   "outputs": [
    {
     "ename": "RuntimeError",
     "evalue": "The size of tensor a (200) must match the size of tensor b (2) at non-singleton dimension 0",
     "output_type": "error",
     "traceback": [
      "\u001b[1;31m---------------------------------------------------------------------------\u001b[0m",
      "\u001b[1;31mRuntimeError\u001b[0m                              Traceback (most recent call last)",
      "Cell \u001b[1;32mIn[8], line 14\u001b[0m\n\u001b[0;32m     11\u001b[0m w \u001b[39m=\u001b[39m V \u001b[39m*\u001b[39m Xy_corr\n\u001b[0;32m     13\u001b[0m \u001b[39m# parameters of noise model (an remains constant)\u001b[39;00m\n\u001b[1;32m---> 14\u001b[0m sse \u001b[39m=\u001b[39m torch\u001b[39m.\u001b[39msum((X \u001b[39m*\u001b[39;49m w \u001b[39m-\u001b[39m y) \u001b[39m*\u001b[39m\u001b[39m*\u001b[39m \u001b[39m2\u001b[39m)\n\u001b[0;32m     15\u001b[0m bn \u001b[39m=\u001b[39m b0 \u001b[39m+\u001b[39m \u001b[39m0.5\u001b[39m \u001b[39m*\u001b[39m (sse \u001b[39m+\u001b[39m E_a \u001b[39m*\u001b[39m w\u001b[39m.\u001b[39mtranspose(\u001b[39m0\u001b[39m, \u001b[39m1\u001b[39m)\u001b[39m.\u001b[39mmatmul(w))\n\u001b[0;32m     16\u001b[0m E_t \u001b[39m=\u001b[39m an \u001b[39m/\u001b[39m bn\n",
      "\u001b[1;31mRuntimeError\u001b[0m: The size of tensor a (200) must match the size of tensor b (2) at non-singleton dimension 0"
     ]
    }
   ],
   "source": [
    "# iterate to find hyperparameters\n",
    "L_last = -sys.float_info.max\n",
    "max_iter = 500\n",
    "E_a = c0 / d0\n",
    "\n",
    "for i in range(max_iter):\n",
    "    # covariance and weight of linear model\n",
    "    invV = E_a * torch.eye(D) + X_corr\n",
    "    V = torch.inverse(invV)\n",
    "    logdetV = - torch.logdet(invV)\n",
    "    w = V * Xy_corr\n",
    "\n",
    "    # parameters of noise model (an remains constant)\n",
    "    sse = torch.sum((X * w - y) ** 2)\n",
    "    bn = b0 + 0.5 * (sse + E_a * w.transpose(0, 1).matmul(w))\n",
    "    E_t = an / bn\n",
    "\n",
    "    # hyperparameters of covariance prior (cn remains constant)\n",
    "    dn = d0 + 0.5 * (E_t * w.transpose(0, 1).matmul(w) + torch.trace(V))\n",
    "    E_a = cn / dn\n",
    "\n",
    "    # variational bound, ignoring constant terms for now\n",
    "    L = -0.5 * (E_t * sse + torch.sum(torch.sum(X * (X.matmul(V))))) + 0.5 * logdetV \\\n",
    "        - b0 * E_t + gammaln_an - an * torch.log(bn) + an \\\n",
    "        + gammaln_cn - cn * torch.log(dn)\n",
    "    \n",
    "    # variational bound must grow!\n",
    "    if L_last > L:\n",
    "        print('Last bound:', L_last)\n",
    "        print('Current bound:', L)\n",
    "        print('Variational bound should not reduce')\n",
    "        break\n",
    "\n",
    "    # stop if change in variation bound is < 0.001%\n",
    "    if abs(L_last - L) < abs(0.00001 * L):\n",
    "        break\n",
    "    L_last = L\n",
    "\n",
    "    if iter == max_iter:\n",
    "        print('Bayesian linear regression reached maximum number of iterations')\n",
    "\n",
    "    # augment variational bound with constant terms\n",
    "    L = L - 0.5 * (N * torch.log(torch.Tensor([2 * torch.pi])) - D) - torch.lgamma(torch.Tensor(a0)) + a0 * torch.log(torch.Tensor(b0)) \\\n",
    "        - torch.lgamma(torch.Tensor(c0)) + c0 * torch.log(torch.Tensor(d0))"
   ]
  }
 ],
 "metadata": {
  "kernelspec": {
   "display_name": "Python 3",
   "language": "python",
   "name": "python3"
  },
  "language_info": {
   "codemirror_mode": {
    "name": "ipython",
    "version": 3
   },
   "file_extension": ".py",
   "mimetype": "text/x-python",
   "name": "python",
   "nbconvert_exporter": "python",
   "pygments_lexer": "ipython3",
   "version": "3.9.10"
  },
  "orig_nbformat": 4
 },
 "nbformat": 4,
 "nbformat_minor": 2
}
