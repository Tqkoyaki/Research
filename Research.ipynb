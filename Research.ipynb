{
 "cells": [
  {
   "cell_type": "code",
   "execution_count": 19,
   "metadata": {},
   "outputs": [],
   "source": [
    "import pandas as pd\n",
    "import torch\n",
    "import sys\n",
    "import numpy as np"
   ]
  },
  {
   "cell_type": "code",
   "execution_count": 20,
   "metadata": {},
   "outputs": [],
   "source": [
    "# obtaining data\n",
    "df = pd.read_csv('data/Advertising.csv').drop('Unnamed: 0', axis=1)\n",
    "\n",
    "X = torch.Tensor([df.TV.to_numpy(),\n",
    "                  df.Radio.to_numpy(),\n",
    "                  df.Newspaper.to_numpy(),\n",
    "                np.repeat([1], 200)]).transpose(0, 1)\n",
    "y = torch.Tensor([df.Sales.to_numpy()]).transpose(0, 1)"
   ]
  },
  {
   "cell_type": "code",
   "execution_count": 21,
   "metadata": {},
   "outputs": [
    {
     "data": {
      "text/plain": [
       "torch.Size([200, 4])"
      ]
     },
     "execution_count": 21,
     "metadata": {},
     "output_type": "execute_result"
    }
   ],
   "source": [
    "X.shape"
   ]
  },
  {
   "cell_type": "code",
   "execution_count": 22,
   "metadata": {},
   "outputs": [
    {
     "data": {
      "text/plain": [
       "torch.Size([200, 1])"
      ]
     },
     "execution_count": 22,
     "metadata": {},
     "output_type": "execute_result"
    }
   ],
   "source": [
    "y.shape"
   ]
  },
  {
   "cell_type": "code",
   "execution_count": 23,
   "metadata": {},
   "outputs": [],
   "source": [
    "# prior parameters\n",
    "a0 = torch.Tensor([1e-2])\n",
    "b0 = torch.Tensor([1e-4])\n",
    "c0 = torch.Tensor([1e-2])\n",
    "d0 = torch.Tensor([1e-4])"
   ]
  },
  {
   "cell_type": "code",
   "execution_count": 24,
   "metadata": {},
   "outputs": [],
   "source": [
    "# pre-process data\n",
    "N = X.shape[0]\n",
    "D = 1\n",
    "if len(X.shape) > 1:\n",
    "    D = X.shape[1]\n",
    "\n",
    "X_corr = X.transpose(0, 1).matmul(X)\n",
    "Xy_corr = X.transpose(0, 1).matmul(y)\n",
    "\n",
    "an = a0 + N / 2\n",
    "gammaln_an = torch.lgamma(torch.Tensor([an]))\n",
    "cn = c0 + D / 2\n",
    "gammaln_cn = torch.lgamma(torch.Tensor([cn]))"
   ]
  },
  {
   "cell_type": "code",
   "execution_count": 25,
   "metadata": {},
   "outputs": [
    {
     "name": "stdout",
     "output_type": "stream",
     "text": [
      "V_N: tensor([[ 4.8700e-07, -9.8560e-07, -5.5491e-07, -2.1151e-05],\n",
      "        [-9.8560e-07,  2.2559e-05, -8.0847e-06, -8.8585e-05],\n",
      "        [-5.5491e-07, -8.0847e-06,  1.1136e-05, -4.7040e-05],\n",
      "        [-2.1151e-05, -8.8585e-05, -4.7040e-05,  7.7388e-03]])\n",
      "w_N: tensor([[0.0520],\n",
      "        [0.2141],\n",
      "        [0.0129],\n",
      "        [0.6663]])\n",
      "a_N: 100.01\n",
      "b_N: tensor([[378.4602]])\n",
      "c_N: 2.01\n",
      "d_N: tensor([[0.0691]])\n",
      "tensor([[-245.7125]])\n",
      "V_N: tensor([[ 5.5736e-07, -6.9220e-07, -3.9856e-07, -4.6858e-05],\n",
      "        [-6.9220e-07,  2.3837e-05, -7.4486e-06, -1.9657e-04],\n",
      "        [-3.9856e-07, -7.4486e-06,  1.1497e-05, -1.0422e-04],\n",
      "        [-4.6858e-05, -1.9657e-04, -1.0422e-04,  1.7152e-02]])\n",
      "w_N: tensor([[0.0498],\n",
      "        [0.2052],\n",
      "        [0.0079],\n",
      "        [1.4734]])\n",
      "a_N: 100.01\n",
      "b_N: tensor([[342.0013]])\n",
      "c_N: 2.01\n",
      "d_N: tensor([[0.3326]])\n",
      "tensor([[-235.5653]])\n",
      "V_N: tensor([[ 6.4109e-07, -3.4118e-07, -2.1238e-07, -7.7499e-05],\n",
      "        [-3.4118e-07,  2.5326e-05, -6.6732e-06, -3.2529e-04],\n",
      "        [-2.1238e-07, -6.6732e-06,  1.1915e-05, -1.7237e-04],\n",
      "        [-7.7499e-05, -3.2529e-04, -1.7237e-04,  2.8373e-02]])\n",
      "w_N: tensor([[4.7141e-02],\n",
      "        [1.9428e-01],\n",
      "        [2.0313e-03],\n",
      "        [2.4354e+00]])\n",
      "a_N: 100.01\n",
      "b_N: tensor([[300.1548]])\n",
      "c_N: 2.01\n",
      "d_N: tensor([[1.0091]])\n",
      "tensor([[-228.0690]])\n",
      "V_N: tensor([[ 6.6858e-07, -2.2583e-07, -1.5124e-07, -8.7562e-05],\n",
      "        [-2.2583e-07,  2.5813e-05, -6.4176e-06, -3.6756e-04],\n",
      "        [-1.5124e-07, -6.4176e-06,  1.2052e-05, -1.9475e-04],\n",
      "        [-8.7562e-05, -3.6756e-04, -1.9475e-04,  3.2058e-02]])\n",
      "w_N: tensor([[4.6277e-02],\n",
      "        [1.9067e-01],\n",
      "        [1.0504e-04],\n",
      "        [2.7514e+00]])\n",
      "a_N: 100.01\n",
      "b_N: tensor([[286.5038]])\n",
      "c_N: 2.01\n",
      "d_N: tensor([[1.3441]])\n",
      "tensor([[-227.3488]])\n",
      "V_N: tensor([[ 6.7244e-07, -2.0959e-07, -1.4264e-07, -8.8978e-05],\n",
      "        [-2.0959e-07,  2.5881e-05, -6.3816e-06, -3.7351e-04],\n",
      "        [-1.4264e-07, -6.3816e-06,  1.2071e-05, -1.9790e-04],\n",
      "        [-8.8978e-05, -3.7351e-04, -1.9790e-04,  3.2576e-02]])\n",
      "w_N: tensor([[ 4.6156e-02],\n",
      "        [ 1.9016e-01],\n",
      "        [-1.6567e-04],\n",
      "        [ 2.7958e+00]])\n",
      "a_N: 100.01\n",
      "b_N: tensor([[284.5848]])\n",
      "c_N: 2.01\n",
      "d_N: tensor([[1.3966]])\n",
      "tensor([[-227.3345]])\n",
      "V_N: tensor([[ 6.7289e-07, -2.0772e-07, -1.4165e-07, -8.9142e-05],\n",
      "        [-2.0772e-07,  2.5889e-05, -6.3774e-06, -3.7419e-04],\n",
      "        [-1.4165e-07, -6.3774e-06,  1.2073e-05, -1.9827e-04],\n",
      "        [-8.9142e-05, -3.7419e-04, -1.9827e-04,  3.2636e-02]])\n",
      "w_N: tensor([[ 4.6142e-02],\n",
      "        [ 1.9011e-01],\n",
      "        [-1.9704e-04],\n",
      "        [ 2.8009e+00]])\n",
      "a_N: 100.01\n",
      "b_N: tensor([[284.3636]])\n",
      "c_N: 2.01\n",
      "d_N: tensor([[1.4028]])\n",
      "tensor([[-227.3343]])\n",
      "V_N: tensor([[ 6.7294e-07, -2.0751e-07, -1.4154e-07, -8.9160e-05],\n",
      "        [-2.0751e-07,  2.5890e-05, -6.3770e-06, -3.7427e-04],\n",
      "        [-1.4154e-07, -6.3770e-06,  1.2073e-05, -1.9831e-04],\n",
      "        [-8.9160e-05, -3.7427e-04, -1.9831e-04,  3.2643e-02]])\n",
      "w_N: tensor([[ 4.6140e-02],\n",
      "        [ 1.9010e-01],\n",
      "        [-2.0058e-04],\n",
      "        [ 2.8015e+00]])\n",
      "a_N: 100.01\n",
      "b_N: tensor([[284.3387]])\n",
      "c_N: 2.01\n",
      "d_N: tensor([[1.4034]])\n",
      "tensor([[-227.3343]])\n",
      "V_N: tensor([[ 6.7295e-07, -2.0749e-07, -1.4152e-07, -8.9162e-05],\n",
      "        [-2.0749e-07,  2.5890e-05, -6.3769e-06, -3.7428e-04],\n",
      "        [-1.4152e-07, -6.3769e-06,  1.2073e-05, -1.9831e-04],\n",
      "        [-8.9162e-05, -3.7428e-04, -1.9831e-04,  3.2643e-02]])\n",
      "w_N: tensor([[ 4.6140e-02],\n",
      "        [ 1.9010e-01],\n",
      "        [-2.0082e-04],\n",
      "        [ 2.8016e+00]])\n",
      "a_N: 100.01\n",
      "b_N: tensor([[284.3359]])\n",
      "c_N: 2.01\n",
      "d_N: tensor([[1.4035]])\n",
      "tensor([[-227.3343]])\n"
     ]
    }
   ],
   "source": [
    "# iterate to find hyperparameters\n",
    "L_last = -sys.float_info.max\n",
    "max_iter = 500\n",
    "E_a = c0 / d0\n",
    "\n",
    "for i in range(max_iter):\n",
    "    # covariance and weight of linear model\n",
    "    invV = E_a * torch.eye(D) + X_corr\n",
    "    V = torch.inverse(invV)\n",
    "    logdetV = - torch.logdet(invV)\n",
    "    w = V.matmul(Xy_corr)\n",
    "\n",
    "    # parameters of noise model (an remains constant)\n",
    "    sse = torch.sum((X.matmul(w) - y) ** 2)\n",
    "    bn = b0 + 0.5 * (sse + E_a * w.transpose(0, 1).matmul(w))\n",
    "    E_t = an / bn\n",
    "\n",
    "    # hyperparameters of covariance prior (cn remains constant)\n",
    "    dn = d0 + 0.5 * (E_t * w.transpose(0, 1).matmul(w) + torch.trace(V))\n",
    "    E_a = cn / dn\n",
    "\n",
    "    # variational bound, ignoring constant terms for now\n",
    "    L = -0.5 * (E_t * sse + torch.sum(torch.sum(X * (X.matmul(V))))) + 0.5 * logdetV \\\n",
    "        - b0 * E_t + gammaln_an - an * torch.log(bn) + an \\\n",
    "        + gammaln_cn - cn * torch.log(dn)\n",
    "    \n",
    "    print(\"V_N:\", V)\n",
    "    print(\"w_N:\", w)\n",
    "    print(\"a_N:\", an)\n",
    "    print(\"b_N:\", bn)\n",
    "    print(\"c_N:\", cn)\n",
    "    print(\"d_N:\", dn)\n",
    "    print(L)\n",
    "    \n",
    "    # variational bound must grow!\n",
    "    if L_last > L:\n",
    "        print('Last bound:', L_last)\n",
    "        print('Current bound:', L)\n",
    "        print('Variational bound should not reduce')\n",
    "        break\n",
    "\n",
    "    # stop if change in variation bound is < 0.0000001%\n",
    "    if abs(L_last - L) < abs(0.00000001 * L):\n",
    "        break\n",
    "    L_last = L\n",
    "\n",
    "    if iter == max_iter:\n",
    "        print('Bayesian linear regression reached maximum number of iterations')\n",
    "\n",
    "    # augment variational bound with constant terms\n",
    "    L = L - 0.5 * (N * torch.log(torch.Tensor([2 * torch.pi])) - D) - torch.lgamma(torch.Tensor([a0])) + a0 * torch.log(torch.Tensor([b0])) \\\n",
    "        - torch.lgamma(torch.Tensor([c0])) + c0 * torch.log(torch.Tensor([d0]))"
   ]
  },
  {
   "cell_type": "code",
   "execution_count": 26,
   "metadata": {},
   "outputs": [
    {
     "name": "stdout",
     "output_type": "stream",
     "text": [
      "InvV: tensor([[5.7911e+06, 6.9806e+05, 9.1963e+05, 2.9409e+04],\n",
      "        [6.9806e+05, 1.5211e+05, 1.6495e+05, 4.6528e+03],\n",
      "        [9.1963e+05, 1.6495e+05, 2.8110e+05, 6.1108e+03],\n",
      "        [2.9409e+04, 4.6528e+03, 6.1108e+03, 2.0143e+02]])\n",
      "V: tensor([[ 6.7295e-07, -2.0749e-07, -1.4152e-07, -8.9162e-05],\n",
      "        [-2.0749e-07,  2.5890e-05, -6.3769e-06, -3.7428e-04],\n",
      "        [-1.4152e-07, -6.3769e-06,  1.2073e-05, -1.9831e-04],\n",
      "        [-8.9162e-05, -3.7428e-04, -1.9831e-04,  3.2643e-02]])\n",
      "logdetV: tensor(-41.5503)\n",
      "w tensor([[ 4.6140e-02],\n",
      "        [ 1.9010e-01],\n",
      "        [-2.0082e-04],\n",
      "        [ 2.8016e+00]])\n",
      "sse: tensor(557.3759)\n",
      "bn: tensor([[284.3359]])\n",
      "E_t: tensor([[0.3517]])\n",
      "dn: tensor([[1.4035]])\n",
      "E_a: tensor([[1.4321]])\n",
      "an: 100.01\n",
      "gammaln_an: tensor([359.1802])\n",
      "cn: 2.01\n",
      "gammaln_cn: tensor([0.0043])\n"
     ]
    }
   ],
   "source": [
    "print(\"InvV:\", invV)\n",
    "print(\"V:\", V)\n",
    "print(\"logdetV:\", logdetV)\n",
    "print(\"w\", w)\n",
    "print(\"sse:\", sse)\n",
    "print(\"bn:\", bn)\n",
    "print(\"E_t:\", E_t)\n",
    "print(\"dn:\", dn)\n",
    "print(\"E_a:\", E_a)\n",
    "print(\"an:\", an)\n",
    "print(\"gammaln_an:\", gammaln_an)\n",
    "print(\"cn:\", cn)\n",
    "print(\"gammaln_cn:\", gammaln_cn)"
   ]
  }
 ],
 "metadata": {
  "kernelspec": {
   "display_name": "Python 3",
   "language": "python",
   "name": "python3"
  },
  "language_info": {
   "codemirror_mode": {
    "name": "ipython",
    "version": 3
   },
   "file_extension": ".py",
   "mimetype": "text/x-python",
   "name": "python",
   "nbconvert_exporter": "python",
   "pygments_lexer": "ipython3",
   "version": "3.9.10"
  },
  "orig_nbformat": 4
 },
 "nbformat": 4,
 "nbformat_minor": 2
}
