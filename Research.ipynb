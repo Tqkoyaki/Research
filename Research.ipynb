{
 "cells": [
  {
   "cell_type": "code",
   "execution_count": 10,
   "metadata": {},
   "outputs": [],
   "source": [
    "import pandas as pd\n",
    "import torch\n",
    "import sys\n",
    "import numpy as np"
   ]
  },
  {
   "cell_type": "code",
   "execution_count": 11,
   "metadata": {},
   "outputs": [],
   "source": [
    "# obtaining data\n",
    "df = pd.read_csv('data/Advertising.csv').drop('Unnamed: 0', axis=1)\n",
    "\n",
    "X = torch.Tensor([df.TV.to_numpy(),\n",
    "                  df.Radio.to_numpy(),\n",
    "                  df.Newspaper.to_numpy(),\n",
    "                np.repeat([1], 200)]).transpose(0, 1)\n",
    "y = torch.Tensor([df.Sales.to_numpy()]).transpose(0, 1)"
   ]
  },
  {
   "cell_type": "code",
   "execution_count": 12,
   "metadata": {},
   "outputs": [
    {
     "data": {
      "text/plain": [
       "torch.Size([200, 4])"
      ]
     },
     "execution_count": 12,
     "metadata": {},
     "output_type": "execute_result"
    }
   ],
   "source": [
    "X.shape"
   ]
  },
  {
   "cell_type": "code",
   "execution_count": 13,
   "metadata": {},
   "outputs": [
    {
     "data": {
      "text/plain": [
       "torch.Size([200, 1])"
      ]
     },
     "execution_count": 13,
     "metadata": {},
     "output_type": "execute_result"
    }
   ],
   "source": [
    "y.shape"
   ]
  },
  {
   "cell_type": "code",
   "execution_count": 14,
   "metadata": {},
   "outputs": [],
   "source": [
    "# prior parameters\n",
    "a0 = 1e-2\n",
    "b0 = 1e-4\n",
    "c0 = 1e-2\n",
    "d0 = 1e-4"
   ]
  },
  {
   "cell_type": "code",
   "execution_count": 15,
   "metadata": {},
   "outputs": [],
   "source": [
    "# pre-process data\n",
    "N = X.shape[0]\n",
    "D = 1\n",
    "if len(X.shape) > 1:\n",
    "    D = X.shape[1]\n",
    "\n",
    "X_corr = X.transpose(0, 1).matmul(X)\n",
    "Xy_corr = X.transpose(0, 1).matmul(y)\n",
    "\n",
    "an = a0 + N / 2\n",
    "gammaln_an = torch.lgamma(torch.Tensor([an]))\n",
    "cn = c0 + D / 2\n",
    "gammaln_cn = torch.lgamma(torch.Tensor([cn]))"
   ]
  },
  {
   "cell_type": "code",
   "execution_count": 16,
   "metadata": {},
   "outputs": [
    {
     "name": "stdout",
     "output_type": "stream",
     "text": [
      "tensor([[-245.7125]])\n",
      "tensor([[-235.5653]])\n",
      "tensor([[-228.0690]])\n",
      "tensor([[-227.3488]])\n",
      "tensor([[-227.3345]])\n",
      "tensor([[-227.3343]])\n",
      "tensor([[-227.3343]])\n",
      "tensor([[-227.3343]])\n"
     ]
    }
   ],
   "source": [
    "# iterate to find hyperparameters\n",
    "L_last = -sys.float_info.max\n",
    "max_iter = 500\n",
    "E_a = c0 / d0\n",
    "\n",
    "for i in range(max_iter):\n",
    "    # covariance and weight of linear model\n",
    "    invV = E_a * torch.eye(D) + X_corr\n",
    "    V = torch.inverse(invV)\n",
    "    logdetV = - torch.logdet(invV)\n",
    "    w = V.matmul(Xy_corr)\n",
    "\n",
    "    # parameters of noise model (an remains constant)\n",
    "    sse = torch.sum((X.matmul(w) - y) ** 2)\n",
    "    bn = b0 + 0.5 * (sse + E_a * w.transpose(0, 1).matmul(w))\n",
    "    E_t = an / bn\n",
    "\n",
    "    # hyperparameters of covariance prior (cn remains constant)\n",
    "    dn = d0 + 0.5 * (E_t * w.transpose(0, 1).matmul(w) + torch.trace(V))\n",
    "    E_a = cn / dn\n",
    "\n",
    "    # variational bound, ignoring constant terms for now\n",
    "    L = -0.5 * (E_t * sse + torch.sum(torch.sum(X * (X.matmul(V))))) + 0.5 * logdetV \\\n",
    "        - b0 * E_t + gammaln_an - an * torch.log(bn) + an \\\n",
    "        + gammaln_cn - cn * torch.log(dn)\n",
    "    \n",
    "    print(L)\n",
    "    \n",
    "    # variational bound must grow!\n",
    "    if L_last > L:\n",
    "        print('Last bound:', L_last)\n",
    "        print('Current bound:', L)\n",
    "        print('Variational bound should not reduce')\n",
    "        break\n",
    "\n",
    "    # stop if change in variation bound is < 0.001%\n",
    "    if abs(L_last - L) < abs(0.00000001 * L):\n",
    "        break\n",
    "    L_last = L\n",
    "\n",
    "    if iter == max_iter:\n",
    "        print('Bayesian linear regression reached maximum number of iterations')\n",
    "\n",
    "    # augment variational bound with constant terms\n",
    "    L = L - 0.5 * (N * torch.log(torch.Tensor([2 * torch.pi])) - D) - torch.lgamma(torch.Tensor([a0])) + a0 * torch.log(torch.Tensor([b0])) \\\n",
    "        - torch.lgamma(torch.Tensor([c0])) + c0 * torch.log(torch.Tensor([d0]))"
   ]
  },
  {
   "cell_type": "code",
   "execution_count": 17,
   "metadata": {},
   "outputs": [
    {
     "name": "stdout",
     "output_type": "stream",
     "text": [
      "InvV: tensor([[5.7911e+06, 6.9806e+05, 9.1963e+05, 2.9409e+04],\n",
      "        [6.9806e+05, 1.5211e+05, 1.6495e+05, 4.6528e+03],\n",
      "        [9.1963e+05, 1.6495e+05, 2.8110e+05, 6.1108e+03],\n",
      "        [2.9409e+04, 4.6528e+03, 6.1108e+03, 2.0143e+02]])\n",
      "V: tensor([[ 6.7295e-07, -2.0749e-07, -1.4152e-07, -8.9162e-05],\n",
      "        [-2.0749e-07,  2.5890e-05, -6.3769e-06, -3.7428e-04],\n",
      "        [-1.4152e-07, -6.3769e-06,  1.2073e-05, -1.9831e-04],\n",
      "        [-8.9162e-05, -3.7428e-04, -1.9831e-04,  3.2643e-02]])\n",
      "logdetV: tensor(-41.5503)\n",
      "w tensor([[ 4.6140e-02],\n",
      "        [ 1.9010e-01],\n",
      "        [-2.0082e-04],\n",
      "        [ 2.8016e+00]])\n",
      "sse: tensor(557.3759)\n",
      "bn: tensor([[284.3359]])\n",
      "E_t: tensor([[0.3517]])\n",
      "dn: tensor([[1.4035]])\n",
      "E_a: tensor([[1.4321]])\n",
      "an: 100.01\n",
      "gammaln_an: tensor([359.1802])\n",
      "cn: 2.01\n",
      "gammaln_cn: tensor([0.0043])\n"
     ]
    }
   ],
   "source": [
    "print(\"InvV:\", invV)\n",
    "print(\"V:\", V)\n",
    "print(\"logdetV:\", logdetV)\n",
    "print(\"w\", w)\n",
    "print(\"sse:\", sse)\n",
    "print(\"bn:\", bn)\n",
    "print(\"E_t:\", E_t)\n",
    "print(\"dn:\", dn)\n",
    "print(\"E_a:\", E_a)\n",
    "print(\"an:\", an)\n",
    "print(\"gammaln_an:\", gammaln_an)\n",
    "print(\"cn:\", cn)\n",
    "print(\"gammaln_cn:\", gammaln_cn)"
   ]
  }
 ],
 "metadata": {
  "kernelspec": {
   "display_name": "Python 3",
   "language": "python",
   "name": "python3"
  },
  "language_info": {
   "codemirror_mode": {
    "name": "ipython",
    "version": 3
   },
   "file_extension": ".py",
   "mimetype": "text/x-python",
   "name": "python",
   "nbconvert_exporter": "python",
   "pygments_lexer": "ipython3",
   "version": "3.9.10"
  },
  "orig_nbformat": 4
 },
 "nbformat": 4,
 "nbformat_minor": 2
}
