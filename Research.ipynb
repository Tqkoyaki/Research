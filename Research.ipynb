{
 "cells": [
  {
   "cell_type": "code",
   "execution_count": 32,
   "metadata": {},
   "outputs": [],
   "source": [
    "import pandas as pd\n",
    "import torch\n",
    "import sys"
   ]
  },
  {
   "cell_type": "code",
   "execution_count": 33,
   "metadata": {},
   "outputs": [],
   "source": [
    "# obtaining data\n",
    "df = pd.read_csv('data/Advertising.csv').drop('Unnamed: 0', axis=1)\n",
    "\n",
    "X = torch.Tensor([df.TV.to_numpy(),\n",
    "                  df.Radio.to_numpy()]).transpose(0, 1)\n",
    "y = torch.Tensor([df.Sales.to_numpy()]).transpose(0, 1)"
   ]
  },
  {
   "cell_type": "code",
   "execution_count": 34,
   "metadata": {},
   "outputs": [
    {
     "data": {
      "text/plain": [
       "torch.Size([200, 2])"
      ]
     },
     "execution_count": 34,
     "metadata": {},
     "output_type": "execute_result"
    }
   ],
   "source": [
    "X.shape"
   ]
  },
  {
   "cell_type": "code",
   "execution_count": 35,
   "metadata": {},
   "outputs": [
    {
     "data": {
      "text/plain": [
       "torch.Size([200, 1])"
      ]
     },
     "execution_count": 35,
     "metadata": {},
     "output_type": "execute_result"
    }
   ],
   "source": [
    "y.shape"
   ]
  },
  {
   "cell_type": "code",
   "execution_count": 36,
   "metadata": {},
   "outputs": [],
   "source": [
    "# prior parameters\n",
    "a0 = 1e-2\n",
    "b0 = 1e-4\n",
    "c0 = 1e-2\n",
    "d0 = 1e-4"
   ]
  },
  {
   "cell_type": "code",
   "execution_count": 37,
   "metadata": {},
   "outputs": [],
   "source": [
    "# pre-process data\n",
    "N = X.shape[0]\n",
    "D = 1\n",
    "if len(X.shape) > 1:\n",
    "    D = X.shape[1]\n",
    "\n",
    "X_corr = X.transpose(0, 1).matmul(X)\n",
    "Xy_corr = X.transpose(0, 1).matmul(y)\n",
    "\n",
    "an = a0 + N / 2\n",
    "gammaln_an = torch.lgamma(torch.Tensor([an]))\n",
    "cn = c0 + D / 2\n",
    "gammaln_cn = torch.lgamma(torch.Tensor([cn]))"
   ]
  },
  {
   "cell_type": "code",
   "execution_count": 39,
   "metadata": {},
   "outputs": [
    {
     "name": "stdout",
     "output_type": "stream",
     "text": [
      "InvV: tensor([[5791218.0000,  698061.9375],\n",
      "        [ 698061.9375,  152207.8594]])\n",
      "V: tensor([[ 3.8614e-07, -1.7709e-06],\n",
      "        [-1.7709e-06,  1.4692e-05]])\n",
      "logdetV: tensor(-26.7001)\n",
      "w tensor([[ 0.1862, -0.8538],\n",
      "        [-0.1313,  1.0891]])\n",
      "sse: tensor(3864068.2500)\n",
      "bn: tensor([[1932036.7500, 1932019.0000],\n",
      "        [1932019.0000, 1932129.8750]])\n",
      "E_t: tensor([[5.1764e-05, 5.1765e-05],\n",
      "        [5.1765e-05, 5.1762e-05]])\n",
      "dn: tensor([[1.0888e-04, 9.9725e-05],\n",
      "        [9.9725e-05, 1.5710e-04]])\n",
      "E_a: tensor([[ 9276.0996, 10127.8447],\n",
      "        [10127.8447,  6429.0190]])\n",
      "an: 100.01\n",
      "gammaln_an: tensor([359.1802])\n",
      "cn: 1.01\n",
      "gammaln_cn: tensor([-0.0057])\n",
      "-1.7976931348623157e+308\n",
      "tensor([[-1093.5114, -1093.4229],\n",
      "        [-1093.4229, -1093.8818]])\n"
     ]
    },
    {
     "ename": "RuntimeError",
     "evalue": "Boolean value of Tensor with more than one value is ambiguous",
     "output_type": "error",
     "traceback": [
      "\u001b[1;31m---------------------------------------------------------------------------\u001b[0m",
      "\u001b[1;31mRuntimeError\u001b[0m                              Traceback (most recent call last)",
      "Cell \u001b[1;32mIn[39], line 44\u001b[0m\n\u001b[0;32m     42\u001b[0m \u001b[39mprint\u001b[39m(L)\n\u001b[0;32m     43\u001b[0m \u001b[39m# variational bound must grow!\u001b[39;00m\n\u001b[1;32m---> 44\u001b[0m \u001b[39mif\u001b[39;00m L_last \u001b[39m>\u001b[39m L:\n\u001b[0;32m     45\u001b[0m     \u001b[39mprint\u001b[39m(\u001b[39m'\u001b[39m\u001b[39mLast bound:\u001b[39m\u001b[39m'\u001b[39m, L_last)\n\u001b[0;32m     46\u001b[0m     \u001b[39mprint\u001b[39m(\u001b[39m'\u001b[39m\u001b[39mCurrent bound:\u001b[39m\u001b[39m'\u001b[39m, L)\n",
      "\u001b[1;31mRuntimeError\u001b[0m: Boolean value of Tensor with more than one value is ambiguous"
     ]
    }
   ],
   "source": [
    "# iterate to find hyperparameters\n",
    "L_last = -sys.float_info.max\n",
    "max_iter = 500\n",
    "E_a = c0 / d0\n",
    "\n",
    "for i in range(max_iter):\n",
    "    # covariance and weight of linear model\n",
    "    invV = E_a * torch.eye(D) + X_corr\n",
    "    V = torch.inverse(invV)\n",
    "    logdetV = - torch.logdet(invV)\n",
    "    w = V * Xy_corr\n",
    "\n",
    "    # parameters of noise model (an remains constant)\n",
    "    sse = torch.sum((X.matmul(w) - y) ** 2)\n",
    "    bn = b0 + 0.5 * (sse + E_a * w.transpose(0, 1).matmul(w))\n",
    "    E_t = an / bn\n",
    "\n",
    "    # hyperparameters of covariance prior (cn remains constant)\n",
    "    dn = d0 + 0.5 * (E_t * w.transpose(0, 1).matmul(w) + torch.trace(V))\n",
    "    E_a = cn / dn\n",
    "\n",
    "    print(\"InvV:\", invV)\n",
    "    print(\"V:\", V)\n",
    "    print(\"logdetV:\", logdetV)\n",
    "    print(\"w\", w)\n",
    "    print(\"sse:\", sse)\n",
    "    print(\"bn:\", bn)\n",
    "    print(\"E_t:\", E_t)\n",
    "    print(\"dn:\", dn)\n",
    "    print(\"E_a:\", E_a)\n",
    "    print(\"an:\", an)\n",
    "    print(\"gammaln_an:\", gammaln_an)\n",
    "    print(\"cn:\", cn)\n",
    "    print(\"gammaln_cn:\", gammaln_cn)\n",
    "\n",
    "    # variational bound, ignoring constant terms for now\n",
    "    L = -0.5 * (E_t * sse + torch.sum(torch.sum(X * (X.matmul(V))))) + 0.5 * logdetV \\\n",
    "        - b0 * E_t + gammaln_an - an * torch.log(bn) + an \\\n",
    "        + gammaln_cn - cn * torch.log(dn)\n",
    "    \n",
    "    print(L_last)\n",
    "    print(L)\n",
    "    # variational bound must grow!\n",
    "    if L_last > L:\n",
    "        print('Last bound:', L_last)\n",
    "        print('Current bound:', L)\n",
    "        print('Variational bound should not reduce')\n",
    "        break\n",
    "\n",
    "    # stop if change in variation bound is < 0.001%\n",
    "    if abs(L_last - L) < abs(0.00001 * L):\n",
    "        break\n",
    "    L_last = L\n",
    "\n",
    "    if iter == max_iter:\n",
    "        print('Bayesian linear regression reached maximum number of iterations')\n",
    "\n",
    "    # augment variational bound with constant terms\n",
    "    L = L - 0.5 * (N * torch.log(torch.Tensor([2 * torch.pi])) - D) - torch.lgamma(torch.Tensor(a0)) + a0 * torch.log(torch.Tensor(b0)) \\\n",
    "        - torch.lgamma(torch.Tensor(c0)) + c0 * torch.log(torch.Tensor(d0))"
   ]
  }
 ],
 "metadata": {
  "kernelspec": {
   "display_name": "Python 3",
   "language": "python",
   "name": "python3"
  },
  "language_info": {
   "codemirror_mode": {
    "name": "ipython",
    "version": 3
   },
   "file_extension": ".py",
   "mimetype": "text/x-python",
   "name": "python",
   "nbconvert_exporter": "python",
   "pygments_lexer": "ipython3",
   "version": "3.9.10"
  },
  "orig_nbformat": 4
 },
 "nbformat": 4,
 "nbformat_minor": 2
}
