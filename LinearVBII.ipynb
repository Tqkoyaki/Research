{
 "cells": [
  {
   "cell_type": "markdown",
   "id": "e5e2d944",
   "metadata": {},
   "source": [
    "## Two-level variational Bayesian inference"
   ]
  },
  {
   "cell_type": "code",
   "execution_count": 1,
   "id": "ada12e7d",
   "metadata": {},
   "outputs": [],
   "source": [
    "import pandas as pd\n",
    "import torch\n",
    "from torch.autograd import Variable\n",
    "\n",
    "import torch.nn as nn\n",
    "import torch.optim as optim"
   ]
  },
  {
   "cell_type": "code",
   "execution_count": 2,
   "id": "f4ce58f1",
   "metadata": {},
   "outputs": [],
   "source": [
    "from torch.distributions.normal import Normal\n",
    "from torch.distributions.multivariate_normal import MultivariateNormal\n",
    "from torch.distributions.gamma import Gamma"
   ]
  },
  {
   "cell_type": "code",
   "execution_count": 3,
   "id": "8a61d0d2",
   "metadata": {},
   "outputs": [
    {
     "data": {
      "text/plain": [
       "tensor([[-0.4011],\n",
       "        [-0.0233],\n",
       "        [ 1.2526]])"
      ]
     },
     "execution_count": 3,
     "metadata": {},
     "output_type": "execute_result"
    }
   ],
   "source": [
    "#mean = torch.Tensor([[1, 2, 3], [4, 5, 6]])\n",
    "mean = torch.rand(3)\n",
    "#cov1 = torch.eye(3)\n",
    "#cov2 = torch.Tensor([[1, 1, 1], [1, 2, 2], [1, 2, 3]])\n",
    "#cov = torch.stack([cov1, cov2], 0)\n",
    "cov = torch.diag(torch.exp(torch.rand(3)))\n",
    "#cov = torch.eye(3)\n",
    "distrib = MultivariateNormal(loc=mean, covariance_matrix=cov)\n",
    "distrib.sample().reshape(3,1)\n",
    "#cov"
   ]
  },
  {
   "cell_type": "code",
   "execution_count": 4,
   "id": "f3b1009b",
   "metadata": {},
   "outputs": [
    {
     "data": {
      "text/plain": [
       "tensor([[0.7021],\n",
       "        [2.1348],\n",
       "        [0.1397],\n",
       "        [1.2101]])"
      ]
     },
     "execution_count": 4,
     "metadata": {},
     "output_type": "execute_result"
    }
   ],
   "source": [
    "Normal(0,1).sample(torch.Size([4,1]))"
   ]
  },
  {
   "cell_type": "code",
   "execution_count": 5,
   "id": "efbbbd05",
   "metadata": {},
   "outputs": [
    {
     "data": {
      "text/plain": [
       "tensor(1.7031)"
      ]
     },
     "execution_count": 5,
     "metadata": {},
     "output_type": "execute_result"
    }
   ],
   "source": [
    "mean.sum()"
   ]
  },
  {
   "cell_type": "code",
   "execution_count": 6,
   "id": "29635ce3",
   "metadata": {},
   "outputs": [
    {
     "data": {
      "text/plain": [
       "tensor([0.2100])"
      ]
     },
     "execution_count": 6,
     "metadata": {},
     "output_type": "execute_result"
    }
   ],
   "source": [
    "Gamma(torch.exp(torch.rand(1)), torch.exp(torch.rand(1))).sample()"
   ]
  },
  {
   "cell_type": "code",
   "execution_count": 7,
   "id": "fa96e841",
   "metadata": {},
   "outputs": [],
   "source": [
    "class StraightLineLayer(nn.Module):\n",
    "    def __init__(self, input_dim):\n",
    "\n",
    "        super().__init__()\n",
    "        self.input_dim = input_dim\n",
    "        self.W_mean = nn.Parameter(torch.rand(self.input_dim))\n",
    "        self.V = nn.Parameter(torch.rand(self.input_dim))\n",
    "        self.a = nn.Parameter(torch.rand(1))\n",
    "        self.b = nn.Parameter(torch.rand(1))\n",
    "        #self.c = nn.Parameter(torch.tensor(1.0))\n",
    "        #self.d = nn.Parameter(torch.tensor(1.0))\n",
    "\n",
    "    def forward(self, X):\n",
    "\n",
    "        #alpha = Gamma(self.c, self.d).sample(torch.Size([1, 1]))\n",
    "        tau = Gamma(torch.exp(self.a), torch.exp(self.b)).sample() \n",
    "        \n",
    "        assert tau > 0\n",
    "        #tau = torch.exp(log_tau)\n",
    "        \n",
    "        #V = torch.diag(torch.exp(self.V))\n",
    "        \n",
    "        z = Normal(0, 1).sample(torch.Size([self.input_dim, 1]))\n",
    "        #cov = 1/tau * torch.diag(torch.exp(self.V))\n",
    "        #W = MultivariateNormal(loc = self.W_mean, covariance_matrix = cov).sample().reshape(self.input_dim,1) \n",
    "        #W = Normal(self.W_mean, 1/tau * V).sample().reshape(self.input_dim, 1)\n",
    "        W = self.W_mean.reshape(self.input_dim, 1) + z * (torch.exp(self.V) / tau)**(0.5)\n",
    "        \n",
    "        return torch.matmul(X, W), W, tau"
   ]
  },
  {
   "cell_type": "code",
   "execution_count": 8,
   "id": "895f54ed",
   "metadata": {},
   "outputs": [],
   "source": [
    "class fullVariationalBayes(nn.Module):\n",
    "\n",
    "    def __init__(self, input_dim, a0=1e-2, b0=1e-4, c0=1e-2, d0=1e-4, num_samples = 100):\n",
    "        super().__init__()\n",
    "        \n",
    "        self.num_samples = num_samples\n",
    "        self.c = nn.Parameter(torch.tensor(1.0))\n",
    "        self.d = nn.Parameter(torch.tensor(1.0))\n",
    "        \n",
    "        self.a0 = nn.Parameter(torch.tensor(a0))\n",
    "        self.b0 = nn.Parameter(torch.tensor(b0))\n",
    "        self.c0 = nn.Parameter(torch.tensor(c0))\n",
    "        self.d0 = nn.Parameter(torch.tensor(d0))\n",
    "        \n",
    "        self.f = StraightLineLayer(input_dim)\n",
    "        \n",
    "    def forward(self, x, y):\n",
    "        \n",
    "        nLogLik = 0.0\n",
    "        tmp_data_size = x.shape[0]\n",
    "        tmp_sigmaN2 = torch.exp(self.f.b - self.f.a)\n",
    "        \n",
    "        for i in range(self.num_samples):\n",
    "            \n",
    "            pred, W, tau = self.f(x)\n",
    "            alpha = Gamma(torch.exp(self.c), torch.exp(self.d)).sample(torch.Size([1, 1]))\n",
    "            nLogLik = nLogLik - Normal(pred, 1/tau**(0.5)).log_prob(y).sum() \n",
    "            nLogLik = nLogLik - Normal(0, 1/(tau*alpha)**(0.5)).log_prob(W).sum()\n",
    "            nLogLik = nLogLik - Gamma(torch.exp(self.a0), torch.exp(self.b0)).log_prob(tau)\n",
    "            nLogLik = nLogLik - Gamma(torch.exp(self.c0), torch.exp(self.d0)).log_prob(alpha)\n",
    "                       \n",
    "        nLogLik = nLogLik / self.num_samples\n",
    " \n",
    "        LogVar_W_tau = (-1.) * tmp_data_size * (self.f.b + self.f.V.sum() + torch.exp(self.f.a - self.f.b) - torch.special.digamma(torch.exp(self.f.a)))\n",
    "        LogVar_W_tau = LogVar_W_tau - torch.lgamma(torch.exp(self.f.a)) + (torch.exp(self.f.a) - 1) * torch.special.digamma(torch.exp(self.f.a)) + self.f.b - torch.exp(self.f.a)\n",
    "    \n",
    "        LogVar_alpha = (-1.) * torch.lgamma(torch.exp(self.c)) + (torch.exp(self.c) - 1) * torch.special.digamma(torch.exp(self.c)) + self.d - torch.exp(self.c)\n",
    "        \n",
    "        return LogVar_W_tau + LogVar_alpha + nLogLik "
   ]
  },
  {
   "cell_type": "code",
   "execution_count": 9,
   "id": "e1b425c9",
   "metadata": {},
   "outputs": [],
   "source": [
    "tensorX = torch.hstack([torch.ones(100, 1), torch.rand(100, 3)])"
   ]
  },
  {
   "cell_type": "code",
   "execution_count": 10,
   "id": "741dd2be",
   "metadata": {},
   "outputs": [
    {
     "data": {
      "text/plain": [
       "torch.Size([100, 4])"
      ]
     },
     "execution_count": 10,
     "metadata": {},
     "output_type": "execute_result"
    }
   ],
   "source": [
    "tensorX.shape"
   ]
  },
  {
   "cell_type": "code",
   "execution_count": 11,
   "id": "14a0985f",
   "metadata": {},
   "outputs": [],
   "source": [
    "tensory = torch.matmul(tensorX, torch.tensor([1., 2., 3., 5.]).reshape(4, 1))"
   ]
  },
  {
   "cell_type": "code",
   "execution_count": 12,
   "id": "a13c3f7e",
   "metadata": {},
   "outputs": [
    {
     "name": "stderr",
     "output_type": "stream",
     "text": [
      "Training...:  62%|█████████████████████████████████████████▌                         | 620/1000 [00:52<00:32, 11.78it/s]\n"
     ]
    },
    {
     "ename": "ValueError",
     "evalue": "Expected parameter concentration (Tensor of shape (1,)) of distribution Gamma(concentration: tensor([nan], grad_fn=<ExpBackward0>), rate: tensor([871518.0625], grad_fn=<ExpBackward0>)) to satisfy the constraint GreaterThan(lower_bound=0.0), but found invalid values:\ntensor([nan], grad_fn=<ExpBackward0>)",
     "output_type": "error",
     "traceback": [
      "\u001b[0;31m---------------------------------------------------------------------------\u001b[0m",
      "\u001b[0;31mValueError\u001b[0m                                Traceback (most recent call last)",
      "Cell \u001b[0;32mIn [12], line 24\u001b[0m\n\u001b[1;32m     19\u001b[0m optimizer\u001b[38;5;241m.\u001b[39mzero_grad()\n\u001b[1;32m     21\u001b[0m \u001b[38;5;66;03m#nLogLik = model(x_tensor, y_tensor)\u001b[39;00m\n\u001b[1;32m     22\u001b[0m \u001b[38;5;66;03m#e = torch.mean(nLogLik)\u001b[39;00m\n\u001b[0;32m---> 24\u001b[0m nLogLik \u001b[38;5;241m=\u001b[39m \u001b[43mmodel\u001b[49m\u001b[43m(\u001b[49m\u001b[43mtensorX\u001b[49m\u001b[43m,\u001b[49m\u001b[43m \u001b[49m\u001b[43mtensory\u001b[49m\u001b[43m)\u001b[49m\n\u001b[1;32m     25\u001b[0m \u001b[38;5;66;03m#nLogLik.backward(retain_graph=True)\u001b[39;00m\n\u001b[1;32m     26\u001b[0m nLogLik\u001b[38;5;241m.\u001b[39mbackward()\n",
      "File \u001b[0;32m~/miniconda3/lib/python3.9/site-packages/torch/nn/modules/module.py:1110\u001b[0m, in \u001b[0;36mModule._call_impl\u001b[0;34m(self, *input, **kwargs)\u001b[0m\n\u001b[1;32m   1106\u001b[0m \u001b[38;5;66;03m# If we don't have any hooks, we want to skip the rest of the logic in\u001b[39;00m\n\u001b[1;32m   1107\u001b[0m \u001b[38;5;66;03m# this function, and just call forward.\u001b[39;00m\n\u001b[1;32m   1108\u001b[0m \u001b[38;5;28;01mif\u001b[39;00m \u001b[38;5;129;01mnot\u001b[39;00m (\u001b[38;5;28mself\u001b[39m\u001b[38;5;241m.\u001b[39m_backward_hooks \u001b[38;5;129;01mor\u001b[39;00m \u001b[38;5;28mself\u001b[39m\u001b[38;5;241m.\u001b[39m_forward_hooks \u001b[38;5;129;01mor\u001b[39;00m \u001b[38;5;28mself\u001b[39m\u001b[38;5;241m.\u001b[39m_forward_pre_hooks \u001b[38;5;129;01mor\u001b[39;00m _global_backward_hooks\n\u001b[1;32m   1109\u001b[0m         \u001b[38;5;129;01mor\u001b[39;00m _global_forward_hooks \u001b[38;5;129;01mor\u001b[39;00m _global_forward_pre_hooks):\n\u001b[0;32m-> 1110\u001b[0m     \u001b[38;5;28;01mreturn\u001b[39;00m \u001b[43mforward_call\u001b[49m\u001b[43m(\u001b[49m\u001b[38;5;241;43m*\u001b[39;49m\u001b[38;5;28;43minput\u001b[39;49m\u001b[43m,\u001b[49m\u001b[43m \u001b[49m\u001b[38;5;241;43m*\u001b[39;49m\u001b[38;5;241;43m*\u001b[39;49m\u001b[43mkwargs\u001b[49m\u001b[43m)\u001b[49m\n\u001b[1;32m   1111\u001b[0m \u001b[38;5;66;03m# Do not call functions when jit is used\u001b[39;00m\n\u001b[1;32m   1112\u001b[0m full_backward_hooks, non_full_backward_hooks \u001b[38;5;241m=\u001b[39m [], []\n",
      "Cell \u001b[0;32mIn [8], line 25\u001b[0m, in \u001b[0;36mfullVariationalBayes.forward\u001b[0;34m(self, x, y)\u001b[0m\n\u001b[1;32m     21\u001b[0m tmp_sigmaN2 \u001b[38;5;241m=\u001b[39m torch\u001b[38;5;241m.\u001b[39mexp(\u001b[38;5;28mself\u001b[39m\u001b[38;5;241m.\u001b[39mf\u001b[38;5;241m.\u001b[39mb \u001b[38;5;241m-\u001b[39m \u001b[38;5;28mself\u001b[39m\u001b[38;5;241m.\u001b[39mf\u001b[38;5;241m.\u001b[39ma)\n\u001b[1;32m     23\u001b[0m \u001b[38;5;28;01mfor\u001b[39;00m i \u001b[38;5;129;01min\u001b[39;00m \u001b[38;5;28mrange\u001b[39m(\u001b[38;5;28mself\u001b[39m\u001b[38;5;241m.\u001b[39mnum_samples):\n\u001b[0;32m---> 25\u001b[0m     pred, W, tau \u001b[38;5;241m=\u001b[39m \u001b[38;5;28;43mself\u001b[39;49m\u001b[38;5;241;43m.\u001b[39;49m\u001b[43mf\u001b[49m\u001b[43m(\u001b[49m\u001b[43mx\u001b[49m\u001b[43m)\u001b[49m\n\u001b[1;32m     26\u001b[0m     alpha \u001b[38;5;241m=\u001b[39m Gamma(torch\u001b[38;5;241m.\u001b[39mexp(\u001b[38;5;28mself\u001b[39m\u001b[38;5;241m.\u001b[39mc), torch\u001b[38;5;241m.\u001b[39mexp(\u001b[38;5;28mself\u001b[39m\u001b[38;5;241m.\u001b[39md))\u001b[38;5;241m.\u001b[39msample(torch\u001b[38;5;241m.\u001b[39mSize([\u001b[38;5;241m1\u001b[39m, \u001b[38;5;241m1\u001b[39m]))\n\u001b[1;32m     27\u001b[0m     nLogLik \u001b[38;5;241m=\u001b[39m nLogLik \u001b[38;5;241m-\u001b[39m Normal(pred, \u001b[38;5;241m1\u001b[39m\u001b[38;5;241m/\u001b[39mtau\u001b[38;5;241m*\u001b[39m\u001b[38;5;241m*\u001b[39m(\u001b[38;5;241m0.5\u001b[39m))\u001b[38;5;241m.\u001b[39mlog_prob(y)\u001b[38;5;241m.\u001b[39msum() \n",
      "File \u001b[0;32m~/miniconda3/lib/python3.9/site-packages/torch/nn/modules/module.py:1110\u001b[0m, in \u001b[0;36mModule._call_impl\u001b[0;34m(self, *input, **kwargs)\u001b[0m\n\u001b[1;32m   1106\u001b[0m \u001b[38;5;66;03m# If we don't have any hooks, we want to skip the rest of the logic in\u001b[39;00m\n\u001b[1;32m   1107\u001b[0m \u001b[38;5;66;03m# this function, and just call forward.\u001b[39;00m\n\u001b[1;32m   1108\u001b[0m \u001b[38;5;28;01mif\u001b[39;00m \u001b[38;5;129;01mnot\u001b[39;00m (\u001b[38;5;28mself\u001b[39m\u001b[38;5;241m.\u001b[39m_backward_hooks \u001b[38;5;129;01mor\u001b[39;00m \u001b[38;5;28mself\u001b[39m\u001b[38;5;241m.\u001b[39m_forward_hooks \u001b[38;5;129;01mor\u001b[39;00m \u001b[38;5;28mself\u001b[39m\u001b[38;5;241m.\u001b[39m_forward_pre_hooks \u001b[38;5;129;01mor\u001b[39;00m _global_backward_hooks\n\u001b[1;32m   1109\u001b[0m         \u001b[38;5;129;01mor\u001b[39;00m _global_forward_hooks \u001b[38;5;129;01mor\u001b[39;00m _global_forward_pre_hooks):\n\u001b[0;32m-> 1110\u001b[0m     \u001b[38;5;28;01mreturn\u001b[39;00m \u001b[43mforward_call\u001b[49m\u001b[43m(\u001b[49m\u001b[38;5;241;43m*\u001b[39;49m\u001b[38;5;28;43minput\u001b[39;49m\u001b[43m,\u001b[49m\u001b[43m \u001b[49m\u001b[38;5;241;43m*\u001b[39;49m\u001b[38;5;241;43m*\u001b[39;49m\u001b[43mkwargs\u001b[49m\u001b[43m)\u001b[49m\n\u001b[1;32m   1111\u001b[0m \u001b[38;5;66;03m# Do not call functions when jit is used\u001b[39;00m\n\u001b[1;32m   1112\u001b[0m full_backward_hooks, non_full_backward_hooks \u001b[38;5;241m=\u001b[39m [], []\n",
      "Cell \u001b[0;32mIn [7], line 16\u001b[0m, in \u001b[0;36mStraightLineLayer.forward\u001b[0;34m(self, X)\u001b[0m\n\u001b[1;32m     13\u001b[0m \u001b[38;5;28;01mdef\u001b[39;00m \u001b[38;5;21mforward\u001b[39m(\u001b[38;5;28mself\u001b[39m, X):\n\u001b[1;32m     14\u001b[0m \n\u001b[1;32m     15\u001b[0m     \u001b[38;5;66;03m#alpha = Gamma(self.c, self.d).sample(torch.Size([1, 1]))\u001b[39;00m\n\u001b[0;32m---> 16\u001b[0m     tau \u001b[38;5;241m=\u001b[39m \u001b[43mGamma\u001b[49m\u001b[43m(\u001b[49m\u001b[43mtorch\u001b[49m\u001b[38;5;241;43m.\u001b[39;49m\u001b[43mexp\u001b[49m\u001b[43m(\u001b[49m\u001b[38;5;28;43mself\u001b[39;49m\u001b[38;5;241;43m.\u001b[39;49m\u001b[43ma\u001b[49m\u001b[43m)\u001b[49m\u001b[43m,\u001b[49m\u001b[43m \u001b[49m\u001b[43mtorch\u001b[49m\u001b[38;5;241;43m.\u001b[39;49m\u001b[43mexp\u001b[49m\u001b[43m(\u001b[49m\u001b[38;5;28;43mself\u001b[39;49m\u001b[38;5;241;43m.\u001b[39;49m\u001b[43mb\u001b[49m\u001b[43m)\u001b[49m\u001b[43m)\u001b[49m\u001b[38;5;241m.\u001b[39msample() \n\u001b[1;32m     18\u001b[0m     \u001b[38;5;28;01massert\u001b[39;00m tau \u001b[38;5;241m>\u001b[39m \u001b[38;5;241m0\u001b[39m\n\u001b[1;32m     19\u001b[0m     \u001b[38;5;66;03m#tau = torch.exp(log_tau)\u001b[39;00m\n\u001b[1;32m     20\u001b[0m     \n\u001b[1;32m     21\u001b[0m     \u001b[38;5;66;03m#V = torch.diag(torch.exp(self.V))\u001b[39;00m\n",
      "File \u001b[0;32m~/miniconda3/lib/python3.9/site-packages/torch/distributions/gamma.py:48\u001b[0m, in \u001b[0;36mGamma.__init__\u001b[0;34m(self, concentration, rate, validate_args)\u001b[0m\n\u001b[1;32m     46\u001b[0m \u001b[38;5;28;01melse\u001b[39;00m:\n\u001b[1;32m     47\u001b[0m     batch_shape \u001b[38;5;241m=\u001b[39m \u001b[38;5;28mself\u001b[39m\u001b[38;5;241m.\u001b[39mconcentration\u001b[38;5;241m.\u001b[39msize()\n\u001b[0;32m---> 48\u001b[0m \u001b[38;5;28;43msuper\u001b[39;49m\u001b[43m(\u001b[49m\u001b[43mGamma\u001b[49m\u001b[43m,\u001b[49m\u001b[43m \u001b[49m\u001b[38;5;28;43mself\u001b[39;49m\u001b[43m)\u001b[49m\u001b[38;5;241;43m.\u001b[39;49m\u001b[38;5;21;43m__init__\u001b[39;49m\u001b[43m(\u001b[49m\u001b[43mbatch_shape\u001b[49m\u001b[43m,\u001b[49m\u001b[43m \u001b[49m\u001b[43mvalidate_args\u001b[49m\u001b[38;5;241;43m=\u001b[39;49m\u001b[43mvalidate_args\u001b[49m\u001b[43m)\u001b[49m\n",
      "File \u001b[0;32m~/miniconda3/lib/python3.9/site-packages/torch/distributions/distribution.py:55\u001b[0m, in \u001b[0;36mDistribution.__init__\u001b[0;34m(self, batch_shape, event_shape, validate_args)\u001b[0m\n\u001b[1;32m     53\u001b[0m         valid \u001b[38;5;241m=\u001b[39m constraint\u001b[38;5;241m.\u001b[39mcheck(value)\n\u001b[1;32m     54\u001b[0m         \u001b[38;5;28;01mif\u001b[39;00m \u001b[38;5;129;01mnot\u001b[39;00m valid\u001b[38;5;241m.\u001b[39mall():\n\u001b[0;32m---> 55\u001b[0m             \u001b[38;5;28;01mraise\u001b[39;00m \u001b[38;5;167;01mValueError\u001b[39;00m(\n\u001b[1;32m     56\u001b[0m                 \u001b[38;5;124mf\u001b[39m\u001b[38;5;124m\"\u001b[39m\u001b[38;5;124mExpected parameter \u001b[39m\u001b[38;5;132;01m{\u001b[39;00mparam\u001b[38;5;132;01m}\u001b[39;00m\u001b[38;5;124m \u001b[39m\u001b[38;5;124m\"\u001b[39m\n\u001b[1;32m     57\u001b[0m                 \u001b[38;5;124mf\u001b[39m\u001b[38;5;124m\"\u001b[39m\u001b[38;5;124m(\u001b[39m\u001b[38;5;132;01m{\u001b[39;00m\u001b[38;5;28mtype\u001b[39m(value)\u001b[38;5;241m.\u001b[39m\u001b[38;5;18m__name__\u001b[39m\u001b[38;5;132;01m}\u001b[39;00m\u001b[38;5;124m of shape \u001b[39m\u001b[38;5;132;01m{\u001b[39;00m\u001b[38;5;28mtuple\u001b[39m(value\u001b[38;5;241m.\u001b[39mshape)\u001b[38;5;132;01m}\u001b[39;00m\u001b[38;5;124m) \u001b[39m\u001b[38;5;124m\"\u001b[39m\n\u001b[1;32m     58\u001b[0m                 \u001b[38;5;124mf\u001b[39m\u001b[38;5;124m\"\u001b[39m\u001b[38;5;124mof distribution \u001b[39m\u001b[38;5;132;01m{\u001b[39;00m\u001b[38;5;28mrepr\u001b[39m(\u001b[38;5;28mself\u001b[39m)\u001b[38;5;132;01m}\u001b[39;00m\u001b[38;5;124m \u001b[39m\u001b[38;5;124m\"\u001b[39m\n\u001b[1;32m     59\u001b[0m                 \u001b[38;5;124mf\u001b[39m\u001b[38;5;124m\"\u001b[39m\u001b[38;5;124mto satisfy the constraint \u001b[39m\u001b[38;5;132;01m{\u001b[39;00m\u001b[38;5;28mrepr\u001b[39m(constraint)\u001b[38;5;132;01m}\u001b[39;00m\u001b[38;5;124m, \u001b[39m\u001b[38;5;124m\"\u001b[39m\n\u001b[1;32m     60\u001b[0m                 \u001b[38;5;124mf\u001b[39m\u001b[38;5;124m\"\u001b[39m\u001b[38;5;124mbut found invalid values:\u001b[39m\u001b[38;5;130;01m\\n\u001b[39;00m\u001b[38;5;132;01m{\u001b[39;00mvalue\u001b[38;5;132;01m}\u001b[39;00m\u001b[38;5;124m\"\u001b[39m\n\u001b[1;32m     61\u001b[0m             )\n\u001b[1;32m     62\u001b[0m \u001b[38;5;28msuper\u001b[39m(Distribution, \u001b[38;5;28mself\u001b[39m)\u001b[38;5;241m.\u001b[39m\u001b[38;5;21m__init__\u001b[39m()\n",
      "\u001b[0;31mValueError\u001b[0m: Expected parameter concentration (Tensor of shape (1,)) of distribution Gamma(concentration: tensor([nan], grad_fn=<ExpBackward0>), rate: tensor([871518.0625], grad_fn=<ExpBackward0>)) to satisfy the constraint GreaterThan(lower_bound=0.0), but found invalid values:\ntensor([nan], grad_fn=<ExpBackward0>)"
     ]
    }
   ],
   "source": [
    "from tqdm import tqdm\n",
    "\n",
    "epochs = 1000\n",
    "\n",
    "#model = nLogLikelyhood_v1()\n",
    "\n",
    "#model = nLogLikelyhood_v2()\n",
    "\n",
    "#model = maxPosterior_v1()\n",
    "\n",
    "learning_rate = 0.02\n",
    "\n",
    "model = fullVariationalBayes(input_dim = tensorX.shape[1])\n",
    "\n",
    "optimizer = optim.Adam(model.parameters(), lr = learning_rate)\n",
    "\n",
    "for epoch in tqdm(range(epochs), desc=\"Training...\"):\n",
    "    \n",
    "    optimizer.zero_grad()\n",
    "    \n",
    "    #nLogLik = model(x_tensor, y_tensor)\n",
    "    #e = torch.mean(nLogLik)\n",
    "    \n",
    "    nLogLik = model(tensorX, tensory)\n",
    "    #nLogLik.backward(retain_graph=True)\n",
    "    nLogLik.backward()\n",
    "    \n",
    "    #e.backward()\n",
    "    optimizer.step()"
   ]
  },
  {
   "cell_type": "code",
   "execution_count": null,
   "id": "a14cb50c",
   "metadata": {},
   "outputs": [],
   "source": []
  }
 ],
 "metadata": {
  "kernelspec": {
   "display_name": "Python 3 (ipykernel)",
   "language": "python",
   "name": "python3"
  },
  "language_info": {
   "codemirror_mode": {
    "name": "ipython",
    "version": 3
   },
   "file_extension": ".py",
   "mimetype": "text/x-python",
   "name": "python",
   "nbconvert_exporter": "python",
   "pygments_lexer": "ipython3",
   "version": "3.9.12"
  }
 },
 "nbformat": 4,
 "nbformat_minor": 5
}
