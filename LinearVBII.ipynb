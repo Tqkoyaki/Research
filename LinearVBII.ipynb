{
 "cells": [
  {
   "cell_type": "markdown",
   "id": "e5e2d944",
   "metadata": {},
   "source": [
    "## Two-level variational Bayesian inference"
   ]
  },
  {
   "cell_type": "code",
   "execution_count": 108,
   "id": "ada12e7d",
   "metadata": {},
   "outputs": [],
   "source": [
    "import pandas as pd\n",
    "import torch\n",
    "from torch.autograd import Variable\n",
    "\n",
    "import torch.nn as nn\n",
    "import torch.optim as optim"
   ]
  },
  {
   "cell_type": "code",
   "execution_count": 109,
   "id": "f4ce58f1",
   "metadata": {},
   "outputs": [],
   "source": [
    "from torch.distributions.normal import Normal\n",
    "from torch.distributions.multivariate_normal import MultivariateNormal\n",
    "from torch.distributions.gamma import Gamma"
   ]
  },
  {
   "cell_type": "code",
   "execution_count": 110,
   "id": "8a61d0d2",
   "metadata": {},
   "outputs": [
    {
     "data": {
      "text/plain": [
       "tensor([[3.0802],\n",
       "        [3.8075],\n",
       "        [0.3488]])"
      ]
     },
     "execution_count": 110,
     "metadata": {},
     "output_type": "execute_result"
    }
   ],
   "source": [
    "#mean = torch.Tensor([[1, 2, 3], [4, 5, 6]])\n",
    "mean = torch.rand(3)\n",
    "#cov1 = torch.eye(3)\n",
    "#cov2 = torch.Tensor([[1, 1, 1], [1, 2, 2], [1, 2, 3]])\n",
    "#cov = torch.stack([cov1, cov2], 0)\n",
    "cov = torch.diag(torch.exp(torch.rand(3)))\n",
    "#cov = torch.eye(3)\n",
    "distrib = MultivariateNormal(loc=mean, covariance_matrix=cov)\n",
    "distrib.sample().reshape(3,1)\n",
    "#cov"
   ]
  },
  {
   "cell_type": "code",
   "execution_count": 111,
   "id": "f3b1009b",
   "metadata": {},
   "outputs": [
    {
     "data": {
      "text/plain": [
       "torch.Size([4, 1])"
      ]
     },
     "execution_count": 111,
     "metadata": {},
     "output_type": "execute_result"
    }
   ],
   "source": [
    "t= Normal(0,1).sample(torch.Size([4,1]))\n",
    "t.shape"
   ]
  },
  {
   "cell_type": "code",
   "execution_count": 112,
   "id": "efbbbd05",
   "metadata": {},
   "outputs": [
    {
     "data": {
      "text/plain": [
       "tensor(2.2282)"
      ]
     },
     "execution_count": 112,
     "metadata": {},
     "output_type": "execute_result"
    }
   ],
   "source": [
    "mean.sum()"
   ]
  },
  {
   "cell_type": "code",
   "execution_count": 113,
   "id": "29635ce3",
   "metadata": {},
   "outputs": [
    {
     "data": {
      "text/plain": [
       "tensor([0.3725])"
      ]
     },
     "execution_count": 113,
     "metadata": {},
     "output_type": "execute_result"
    }
   ],
   "source": [
    "Gamma(torch.exp(torch.rand(1)), torch.exp(torch.rand(1))).sample()"
   ]
  },
  {
   "cell_type": "code",
   "execution_count": 114,
   "id": "5258ebb0",
   "metadata": {},
   "outputs": [
    {
     "data": {
      "text/plain": [
       "nan"
      ]
     },
     "execution_count": 114,
     "metadata": {},
     "output_type": "execute_result"
    }
   ],
   "source": [
    "1 + torch.nan"
   ]
  },
  {
   "cell_type": "code",
   "execution_count": 115,
   "id": "fa96e841",
   "metadata": {},
   "outputs": [],
   "source": [
    "class StraightLineLayer(nn.Module):\n",
    "    def __init__(self, input_dim):\n",
    "\n",
    "        super().__init__()\n",
    "        self.input_dim = input_dim\n",
    "        self.W_mean = nn.Parameter(torch.rand(self.input_dim))\n",
    "        self.V = nn.Parameter(torch.rand(self.input_dim))\n",
    "        self.a = nn.Parameter(torch.rand(1)-2.)\n",
    "        self.b = nn.Parameter(torch.rand(1)-4.)\n",
    "        # self.a = nn.Parameter(torch.rand(1))\n",
    "        # self.b = nn.Parameter(torch.rand(1))\n",
    "        \n",
    "        self.tau_log = []\n",
    "        self.a_log = []\n",
    "        self.b_log = []\n",
    "        self.V_log = []\n",
    "        self.W_mean_log = []\n",
    "        #self.c = nn.Parameter(torch.tensor(1.0))\n",
    "        #self.d = nn.Parameter(torch.tensor(1.0))\n",
    "\n",
    "    def forward(self, X):\n",
    "\n",
    "        #alpha = Gamma(self.c, self.d).sample(torch.Size([1, 1]))\n",
    "        tau = Gamma(torch.exp(self.a), torch.exp(self.b)).sample() \n",
    "        self.tau_log.append(tau)\n",
    "        \n",
    "        assert tau > 0\n",
    "        #tau = torch.exp(log_tau)\n",
    "        \n",
    "        #V = torch.diag(torch.exp(self.V))\n",
    "        \n",
    "        z = Normal(0, 1).sample(torch.Size([self.input_dim, 1]))\n",
    "        #cov = 1/tau * torch.diag(torch.exp(self.V))\n",
    "        #W = MultivariateNormal(loc = self.W_mean, covariance_matrix = cov).sample().reshape(self.input_dim,1) \n",
    "        #W = Normal(self.W_mean, 1/tau * V).sample().reshape(self.input_dim, 1)\n",
    "        W = self.W_mean.reshape(self.input_dim, 1) + z * (torch.exp(self.V).reshape(self.input_dim, 1) / tau)**(0.5)\n",
    "        \n",
    "        return torch.matmul(X, W), W, tau"
   ]
  },
  {
   "cell_type": "code",
   "execution_count": 116,
   "id": "895f54ed",
   "metadata": {},
   "outputs": [],
   "source": [
    "from torch.autograd import Variable\n",
    "\n",
    "class fullVariationalBayes(nn.Module):\n",
    "\n",
    "    def __init__(self, input_dim, a0=1e-2, b0=1e-4, c0=1e-2, d0=1e-4, num_samples = 50):\n",
    "        super().__init__()\n",
    "        \n",
    "        self.num_samples = num_samples\n",
    "        self.c = nn.Parameter(torch.rand(1)-2.)\n",
    "        self.d = nn.Parameter(torch.rand(1)-4.)\n",
    "        \n",
    "        self.a0 = Variable(torch.tensor(a0))\n",
    "        self.b0 = Variable(torch.tensor(b0))\n",
    "        self.c0 = Variable(torch.tensor(c0))\n",
    "        self.d0 = Variable(torch.tensor(d0))\n",
    "        \n",
    "        self.f = StraightLineLayer(input_dim)\n",
    "        \n",
    "    def forward(self, x, y):\n",
    "        \n",
    "        nLogLik = 0.0\n",
    "        tmp_data_size = x.shape[0]\n",
    "        #tmp_sigmaN2 = torch.exp(self.f.b - self.f.a)\n",
    "        \n",
    "        for i in range(self.num_samples):\n",
    "            \n",
    "            pred, W, tau = self.f(x)\n",
    "            #print(pred.shape)\n",
    "            alpha = Gamma(torch.exp(self.c), torch.exp(self.d)).sample(torch.Size([1, 1]))\n",
    "            nLogLik = nLogLik - Normal(pred, 1/tau**(0.5)).log_prob(y).sum() \n",
    "            nLogLik = nLogLik - Normal(0, 1/(tau*alpha)**(0.5)).log_prob(W).sum()\n",
    "            nLogLik = nLogLik - Gamma(self.a0, self.b0).log_prob(tau)\n",
    "            nLogLik = nLogLik - Gamma(self.c0, self.d0).log_prob(alpha)\n",
    "                       \n",
    "        nLogLik = nLogLik / self.num_samples\n",
    " \n",
    "        LogVar_W_tau = (-1.) * tmp_data_size * (self.f.b + self.f.V.sum() + torch.exp(self.f.a - self.f.b) - torch.special.digamma(torch.exp(self.f.a)))\n",
    "        LogVar_W_tau = LogVar_W_tau - torch.lgamma(torch.exp(self.f.a)) + (torch.exp(self.f.a) - 1) * torch.special.digamma(torch.exp(self.f.a)) + self.f.b - torch.exp(self.f.a)\n",
    "    \n",
    "        LogVar_alpha = (-1.) * torch.lgamma(torch.exp(self.c)) + (torch.exp(self.c) - 1) * torch.special.digamma(torch.exp(self.c)) + self.d - torch.exp(self.c)\n",
    "\n",
    "        self.f.a_log.append(self.f.a.item())\n",
    "        self.f.b_log.append(self.f.b.item())\n",
    "        self.f.V_log.append(self.f.V.data)\n",
    "        self.f.W_mean_log.append(self.f.W_mean.data)\n",
    "        \n",
    "        return LogVar_W_tau + LogVar_alpha + nLogLik "
   ]
  },
  {
   "cell_type": "code",
   "execution_count": 117,
   "id": "e1b425c9",
   "metadata": {},
   "outputs": [],
   "source": [
    "tensorX = torch.hstack([torch.ones(100, 1), torch.rand(100, 3)])"
   ]
  },
  {
   "cell_type": "code",
   "execution_count": 118,
   "id": "741dd2be",
   "metadata": {},
   "outputs": [
    {
     "data": {
      "text/plain": [
       "torch.Size([100, 4])"
      ]
     },
     "execution_count": 118,
     "metadata": {},
     "output_type": "execute_result"
    }
   ],
   "source": [
    "tensorX.shape"
   ]
  },
  {
   "cell_type": "code",
   "execution_count": 119,
   "id": "cd59e1bd",
   "metadata": {},
   "outputs": [],
   "source": [
    "#torch.matmul(tensorX, torch.rand(4,1))"
   ]
  },
  {
   "cell_type": "code",
   "execution_count": 120,
   "id": "14a0985f",
   "metadata": {},
   "outputs": [],
   "source": [
    "tensory = torch.matmul(tensorX, torch.tensor([1., 2., 3., 5.]).reshape(4, 1))"
   ]
  },
  {
   "cell_type": "code",
   "execution_count": 121,
   "id": "a13c3f7e",
   "metadata": {},
   "outputs": [
    {
     "name": "stderr",
     "output_type": "stream",
     "text": [
      "Training...:  60%|█████▉    | 597/1000 [00:43<00:29, 13.81it/s]\n"
     ]
    },
    {
     "ename": "ValueError",
     "evalue": "Expected parameter concentration (Tensor of shape (1,)) of distribution Gamma(concentration: tensor([nan], grad_fn=<ExpBackward0>), rate: tensor([0.2009], grad_fn=<ExpBackward0>)) to satisfy the constraint GreaterThan(lower_bound=0.0), but found invalid values:\ntensor([nan], grad_fn=<ExpBackward0>)",
     "output_type": "error",
     "traceback": [
      "\u001b[1;31m---------------------------------------------------------------------------\u001b[0m",
      "\u001b[1;31mValueError\u001b[0m                                Traceback (most recent call last)",
      "Cell \u001b[1;32mIn[121], line 24\u001b[0m\n\u001b[0;32m     19\u001b[0m optimizer\u001b[39m.\u001b[39mzero_grad()\n\u001b[0;32m     21\u001b[0m \u001b[39m#nLogLik = model(x_tensor, y_tensor)\u001b[39;00m\n\u001b[0;32m     22\u001b[0m \u001b[39m#e = torch.mean(nLogLik)\u001b[39;00m\n\u001b[1;32m---> 24\u001b[0m nLogLik \u001b[39m=\u001b[39m model(tensorX, tensory)\n\u001b[0;32m     25\u001b[0m \u001b[39m#nLogLik.backward(retain_graph=True)\u001b[39;00m\n\u001b[0;32m     26\u001b[0m nLogLik\u001b[39m.\u001b[39mbackward()\n",
      "File \u001b[1;32mc:\\Users\\pande\\AppData\\Local\\Programs\\Python\\Python39\\lib\\site-packages\\torch\\nn\\modules\\module.py:1501\u001b[0m, in \u001b[0;36mModule._call_impl\u001b[1;34m(self, *args, **kwargs)\u001b[0m\n\u001b[0;32m   1496\u001b[0m \u001b[39m# If we don't have any hooks, we want to skip the rest of the logic in\u001b[39;00m\n\u001b[0;32m   1497\u001b[0m \u001b[39m# this function, and just call forward.\u001b[39;00m\n\u001b[0;32m   1498\u001b[0m \u001b[39mif\u001b[39;00m \u001b[39mnot\u001b[39;00m (\u001b[39mself\u001b[39m\u001b[39m.\u001b[39m_backward_hooks \u001b[39mor\u001b[39;00m \u001b[39mself\u001b[39m\u001b[39m.\u001b[39m_backward_pre_hooks \u001b[39mor\u001b[39;00m \u001b[39mself\u001b[39m\u001b[39m.\u001b[39m_forward_hooks \u001b[39mor\u001b[39;00m \u001b[39mself\u001b[39m\u001b[39m.\u001b[39m_forward_pre_hooks\n\u001b[0;32m   1499\u001b[0m         \u001b[39mor\u001b[39;00m _global_backward_pre_hooks \u001b[39mor\u001b[39;00m _global_backward_hooks\n\u001b[0;32m   1500\u001b[0m         \u001b[39mor\u001b[39;00m _global_forward_hooks \u001b[39mor\u001b[39;00m _global_forward_pre_hooks):\n\u001b[1;32m-> 1501\u001b[0m     \u001b[39mreturn\u001b[39;00m forward_call(\u001b[39m*\u001b[39margs, \u001b[39m*\u001b[39m\u001b[39m*\u001b[39mkwargs)\n\u001b[0;32m   1502\u001b[0m \u001b[39m# Do not call functions when jit is used\u001b[39;00m\n\u001b[0;32m   1503\u001b[0m full_backward_hooks, non_full_backward_hooks \u001b[39m=\u001b[39m [], []\n",
      "Cell \u001b[1;32mIn[116], line 27\u001b[0m, in \u001b[0;36mfullVariationalBayes.forward\u001b[1;34m(self, x, y)\u001b[0m\n\u001b[0;32m     23\u001b[0m \u001b[39m#tmp_sigmaN2 = torch.exp(self.f.b - self.f.a)\u001b[39;00m\n\u001b[0;32m     25\u001b[0m \u001b[39mfor\u001b[39;00m i \u001b[39min\u001b[39;00m \u001b[39mrange\u001b[39m(\u001b[39mself\u001b[39m\u001b[39m.\u001b[39mnum_samples):\n\u001b[1;32m---> 27\u001b[0m     pred, W, tau \u001b[39m=\u001b[39m \u001b[39mself\u001b[39;49m\u001b[39m.\u001b[39;49mf(x)\n\u001b[0;32m     28\u001b[0m     \u001b[39m#print(pred.shape)\u001b[39;00m\n\u001b[0;32m     29\u001b[0m     alpha \u001b[39m=\u001b[39m Gamma(torch\u001b[39m.\u001b[39mexp(\u001b[39mself\u001b[39m\u001b[39m.\u001b[39mc), torch\u001b[39m.\u001b[39mexp(\u001b[39mself\u001b[39m\u001b[39m.\u001b[39md))\u001b[39m.\u001b[39msample(torch\u001b[39m.\u001b[39mSize([\u001b[39m1\u001b[39m, \u001b[39m1\u001b[39m]))\n",
      "File \u001b[1;32mc:\\Users\\pande\\AppData\\Local\\Programs\\Python\\Python39\\lib\\site-packages\\torch\\nn\\modules\\module.py:1501\u001b[0m, in \u001b[0;36mModule._call_impl\u001b[1;34m(self, *args, **kwargs)\u001b[0m\n\u001b[0;32m   1496\u001b[0m \u001b[39m# If we don't have any hooks, we want to skip the rest of the logic in\u001b[39;00m\n\u001b[0;32m   1497\u001b[0m \u001b[39m# this function, and just call forward.\u001b[39;00m\n\u001b[0;32m   1498\u001b[0m \u001b[39mif\u001b[39;00m \u001b[39mnot\u001b[39;00m (\u001b[39mself\u001b[39m\u001b[39m.\u001b[39m_backward_hooks \u001b[39mor\u001b[39;00m \u001b[39mself\u001b[39m\u001b[39m.\u001b[39m_backward_pre_hooks \u001b[39mor\u001b[39;00m \u001b[39mself\u001b[39m\u001b[39m.\u001b[39m_forward_hooks \u001b[39mor\u001b[39;00m \u001b[39mself\u001b[39m\u001b[39m.\u001b[39m_forward_pre_hooks\n\u001b[0;32m   1499\u001b[0m         \u001b[39mor\u001b[39;00m _global_backward_pre_hooks \u001b[39mor\u001b[39;00m _global_backward_hooks\n\u001b[0;32m   1500\u001b[0m         \u001b[39mor\u001b[39;00m _global_forward_hooks \u001b[39mor\u001b[39;00m _global_forward_pre_hooks):\n\u001b[1;32m-> 1501\u001b[0m     \u001b[39mreturn\u001b[39;00m forward_call(\u001b[39m*\u001b[39margs, \u001b[39m*\u001b[39m\u001b[39m*\u001b[39mkwargs)\n\u001b[0;32m   1502\u001b[0m \u001b[39m# Do not call functions when jit is used\u001b[39;00m\n\u001b[0;32m   1503\u001b[0m full_backward_hooks, non_full_backward_hooks \u001b[39m=\u001b[39m [], []\n",
      "Cell \u001b[1;32mIn[115], line 24\u001b[0m, in \u001b[0;36mStraightLineLayer.forward\u001b[1;34m(self, X)\u001b[0m\n\u001b[0;32m     21\u001b[0m \u001b[39mdef\u001b[39;00m \u001b[39mforward\u001b[39m(\u001b[39mself\u001b[39m, X):\n\u001b[0;32m     22\u001b[0m \n\u001b[0;32m     23\u001b[0m     \u001b[39m#alpha = Gamma(self.c, self.d).sample(torch.Size([1, 1]))\u001b[39;00m\n\u001b[1;32m---> 24\u001b[0m     tau \u001b[39m=\u001b[39m Gamma(torch\u001b[39m.\u001b[39;49mexp(\u001b[39mself\u001b[39;49m\u001b[39m.\u001b[39;49ma), torch\u001b[39m.\u001b[39;49mexp(\u001b[39mself\u001b[39;49m\u001b[39m.\u001b[39;49mb))\u001b[39m.\u001b[39msample() \n\u001b[0;32m     25\u001b[0m     \u001b[39mself\u001b[39m\u001b[39m.\u001b[39mtau_log\u001b[39m.\u001b[39mappend(tau)\n\u001b[0;32m     27\u001b[0m     \u001b[39massert\u001b[39;00m tau \u001b[39m>\u001b[39m \u001b[39m0\u001b[39m\n",
      "File \u001b[1;32mc:\\Users\\pande\\AppData\\Local\\Programs\\Python\\Python39\\lib\\site-packages\\torch\\distributions\\gamma.py:54\u001b[0m, in \u001b[0;36mGamma.__init__\u001b[1;34m(self, concentration, rate, validate_args)\u001b[0m\n\u001b[0;32m     52\u001b[0m \u001b[39melse\u001b[39;00m:\n\u001b[0;32m     53\u001b[0m     batch_shape \u001b[39m=\u001b[39m \u001b[39mself\u001b[39m\u001b[39m.\u001b[39mconcentration\u001b[39m.\u001b[39msize()\n\u001b[1;32m---> 54\u001b[0m \u001b[39msuper\u001b[39;49m()\u001b[39m.\u001b[39;49m\u001b[39m__init__\u001b[39;49m(batch_shape, validate_args\u001b[39m=\u001b[39;49mvalidate_args)\n",
      "File \u001b[1;32mc:\\Users\\pande\\AppData\\Local\\Programs\\Python\\Python39\\lib\\site-packages\\torch\\distributions\\distribution.py:62\u001b[0m, in \u001b[0;36mDistribution.__init__\u001b[1;34m(self, batch_shape, event_shape, validate_args)\u001b[0m\n\u001b[0;32m     60\u001b[0m         valid \u001b[39m=\u001b[39m constraint\u001b[39m.\u001b[39mcheck(value)\n\u001b[0;32m     61\u001b[0m         \u001b[39mif\u001b[39;00m \u001b[39mnot\u001b[39;00m valid\u001b[39m.\u001b[39mall():\n\u001b[1;32m---> 62\u001b[0m             \u001b[39mraise\u001b[39;00m \u001b[39mValueError\u001b[39;00m(\n\u001b[0;32m     63\u001b[0m                 \u001b[39mf\u001b[39m\u001b[39m\"\u001b[39m\u001b[39mExpected parameter \u001b[39m\u001b[39m{\u001b[39;00mparam\u001b[39m}\u001b[39;00m\u001b[39m \u001b[39m\u001b[39m\"\u001b[39m\n\u001b[0;32m     64\u001b[0m                 \u001b[39mf\u001b[39m\u001b[39m\"\u001b[39m\u001b[39m(\u001b[39m\u001b[39m{\u001b[39;00m\u001b[39mtype\u001b[39m(value)\u001b[39m.\u001b[39m\u001b[39m__name__\u001b[39m\u001b[39m}\u001b[39;00m\u001b[39m of shape \u001b[39m\u001b[39m{\u001b[39;00m\u001b[39mtuple\u001b[39m(value\u001b[39m.\u001b[39mshape)\u001b[39m}\u001b[39;00m\u001b[39m) \u001b[39m\u001b[39m\"\u001b[39m\n\u001b[0;32m     65\u001b[0m                 \u001b[39mf\u001b[39m\u001b[39m\"\u001b[39m\u001b[39mof distribution \u001b[39m\u001b[39m{\u001b[39;00m\u001b[39mrepr\u001b[39m(\u001b[39mself\u001b[39m)\u001b[39m}\u001b[39;00m\u001b[39m \u001b[39m\u001b[39m\"\u001b[39m\n\u001b[0;32m     66\u001b[0m                 \u001b[39mf\u001b[39m\u001b[39m\"\u001b[39m\u001b[39mto satisfy the constraint \u001b[39m\u001b[39m{\u001b[39;00m\u001b[39mrepr\u001b[39m(constraint)\u001b[39m}\u001b[39;00m\u001b[39m, \u001b[39m\u001b[39m\"\u001b[39m\n\u001b[0;32m     67\u001b[0m                 \u001b[39mf\u001b[39m\u001b[39m\"\u001b[39m\u001b[39mbut found invalid values:\u001b[39m\u001b[39m\\n\u001b[39;00m\u001b[39m{\u001b[39;00mvalue\u001b[39m}\u001b[39;00m\u001b[39m\"\u001b[39m\n\u001b[0;32m     68\u001b[0m             )\n\u001b[0;32m     69\u001b[0m \u001b[39msuper\u001b[39m()\u001b[39m.\u001b[39m\u001b[39m__init__\u001b[39m()\n",
      "\u001b[1;31mValueError\u001b[0m: Expected parameter concentration (Tensor of shape (1,)) of distribution Gamma(concentration: tensor([nan], grad_fn=<ExpBackward0>), rate: tensor([0.2009], grad_fn=<ExpBackward0>)) to satisfy the constraint GreaterThan(lower_bound=0.0), but found invalid values:\ntensor([nan], grad_fn=<ExpBackward0>)"
     ]
    }
   ],
   "source": [
    "from tqdm import tqdm\n",
    "\n",
    "epochs = 1000\n",
    "\n",
    "#model = nLogLikelyhood_v1()\n",
    "\n",
    "#model = nLogLikelyhood_v2()\n",
    "\n",
    "#model = maxPosterior_v1()\n",
    "\n",
    "learning_rate = 0.02\n",
    "\n",
    "model = fullVariationalBayes(input_dim = tensorX.shape[1])\n",
    "\n",
    "optimizer = optim.Adam(model.parameters(), lr = learning_rate)\n",
    "\n",
    "for epoch in tqdm(range(epochs), desc=\"Training...\"):\n",
    "    \n",
    "    optimizer.zero_grad()\n",
    "    \n",
    "    #nLogLik = model(x_tensor, y_tensor)\n",
    "    #e = torch.mean(nLogLik)\n",
    "    \n",
    "    nLogLik = model(tensorX, tensory)\n",
    "    #nLogLik.backward(retain_graph=True)\n",
    "    nLogLik.backward()\n",
    "    \n",
    "    #e.backward()\n",
    "    optimizer.step()"
   ]
  },
  {
   "cell_type": "code",
   "execution_count": 122,
   "id": "50584331",
   "metadata": {},
   "outputs": [
    {
     "data": {
      "text/plain": [
       "[tensor([5.9174e-38]),\n",
       " tensor([5.9174e-38]),\n",
       " tensor([5.9174e-38]),\n",
       " tensor([5.9174e-38]),\n",
       " tensor([5.9174e-38])]"
      ]
     },
     "execution_count": 122,
     "metadata": {},
     "output_type": "execute_result"
    }
   ],
   "source": [
    "model.f.tau_log[-5:]"
   ]
  },
  {
   "cell_type": "code",
   "execution_count": 135,
   "id": "e10fc3ce",
   "metadata": {},
   "outputs": [
    {
     "data": {
      "text/plain": [
       "[-41.75222396850586,\n",
       " -41.849422454833984,\n",
       " -41.94668197631836,\n",
       " -42.044002532958984,\n",
       " -42.14138412475586]"
      ]
     },
     "execution_count": 135,
     "metadata": {},
     "output_type": "execute_result"
    }
   ],
   "source": [
    "model.f.a_log[-5:]"
   ]
  },
  {
   "cell_type": "code",
   "execution_count": 126,
   "id": "5589b6d7",
   "metadata": {},
   "outputs": [
    {
     "data": {
      "text/plain": [
       "[-1.660336971282959,\n",
       " -1.6493194103240967,\n",
       " -1.6382932662963867,\n",
       " -1.627258539199829,\n",
       " -1.6162152290344238]"
      ]
     },
     "execution_count": 126,
     "metadata": {},
     "output_type": "execute_result"
    }
   ],
   "source": [
    "model.f.b_log[-5:]"
   ]
  },
  {
   "cell_type": "code",
   "execution_count": 124,
   "id": "11dec646",
   "metadata": {},
   "outputs": [
    {
     "data": {
      "text/plain": [
       "[tensor([1.5988, 0.8867, 1.2007, 1.0883]),\n",
       " tensor([1.5988, 0.8867, 1.2007, 1.0883]),\n",
       " tensor([1.5988, 0.8867, 1.2007, 1.0883]),\n",
       " tensor([1.5988, 0.8867, 1.2007, 1.0883]),\n",
       " tensor([1.5988, 0.8867, 1.2007, 1.0883])]"
      ]
     },
     "execution_count": 124,
     "metadata": {},
     "output_type": "execute_result"
    }
   ],
   "source": [
    "model.f.W_mean_log[-5:]"
   ]
  },
  {
   "cell_type": "code",
   "execution_count": 132,
   "id": "1d564fbf",
   "metadata": {},
   "outputs": [
    {
     "data": {
      "text/plain": [
       "[tensor([-13.4542, -13.2659, -13.2444, -13.2380]),\n",
       " tensor([-13.4542, -13.2659, -13.2444, -13.2380]),\n",
       " tensor([-13.4542, -13.2659, -13.2444, -13.2380]),\n",
       " tensor([-13.4542, -13.2659, -13.2444, -13.2380]),\n",
       " tensor([-13.4542, -13.2659, -13.2444, -13.2380])]"
      ]
     },
     "execution_count": 132,
     "metadata": {},
     "output_type": "execute_result"
    }
   ],
   "source": [
    "model.f.V_log[-5:]"
   ]
  },
  {
   "cell_type": "code",
   "execution_count": 128,
   "id": "7d1cfec0",
   "metadata": {},
   "outputs": [
    {
     "data": {
      "text/plain": [
       "(Parameter containing:\n",
       " tensor([-15.0960], requires_grad=True),\n",
       " Parameter containing:\n",
       " tensor([5.0907], requires_grad=True))"
      ]
     },
     "execution_count": 128,
     "metadata": {},
     "output_type": "execute_result"
    }
   ],
   "source": [
    "model.d, model.c"
   ]
  },
  {
   "cell_type": "code",
   "execution_count": 127,
   "id": "a14cb50c",
   "metadata": {},
   "outputs": [
    {
     "data": {
      "text/plain": [
       "tensor([1.4352e-06, 1.7325e-06, 1.7701e-06, 1.7815e-06],\n",
       "       grad_fn=<ExpBackward0>)"
      ]
     },
     "execution_count": 127,
     "metadata": {},
     "output_type": "execute_result"
    }
   ],
   "source": [
    "torch.exp(model.f.V)"
   ]
  },
  {
   "cell_type": "code",
   "execution_count": 129,
   "id": "a74e172c",
   "metadata": {},
   "outputs": [
    {
     "data": {
      "text/plain": [
       "Parameter containing:\n",
       "tensor([1.5988, 0.8867, 1.2007, 1.0883], requires_grad=True)"
      ]
     },
     "execution_count": 129,
     "metadata": {},
     "output_type": "execute_result"
    }
   ],
   "source": [
    "model.f.W_mean"
   ]
  },
  {
   "cell_type": "code",
   "execution_count": 130,
   "id": "b294c4b6",
   "metadata": {},
   "outputs": [
    {
     "data": {
      "text/plain": [
       "tensor([nan], grad_fn=<ExpBackward0>)"
      ]
     },
     "execution_count": 130,
     "metadata": {},
     "output_type": "execute_result"
    }
   ],
   "source": [
    "torch.exp(model.f.a)"
   ]
  },
  {
   "cell_type": "code",
   "execution_count": 131,
   "id": "ab505f35",
   "metadata": {},
   "outputs": [
    {
     "data": {
      "text/plain": [
       "tensor([0.2009], grad_fn=<ExpBackward0>)"
      ]
     },
     "execution_count": 131,
     "metadata": {},
     "output_type": "execute_result"
    }
   ],
   "source": [
    "torch.exp(model.f.b)"
   ]
  },
  {
   "cell_type": "code",
   "execution_count": null,
   "id": "356d38f6",
   "metadata": {},
   "outputs": [],
   "source": []
  }
 ],
 "metadata": {
  "kernelspec": {
   "display_name": "Python 3 (ipykernel)",
   "language": "python",
   "name": "python3"
  },
  "language_info": {
   "codemirror_mode": {
    "name": "ipython",
    "version": 3
   },
   "file_extension": ".py",
   "mimetype": "text/x-python",
   "name": "python",
   "nbconvert_exporter": "python",
   "pygments_lexer": "ipython3",
   "version": "3.9.10"
  }
 },
 "nbformat": 4,
 "nbformat_minor": 5
}
