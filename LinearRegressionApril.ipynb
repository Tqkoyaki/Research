{
 "cells": [
  {
   "cell_type": "code",
   "execution_count": 130,
   "metadata": {},
   "outputs": [],
   "source": [
    "import torch\n",
    "import torch.nn as nn\n",
    "import torch.optim as optim\n",
    "import pandas as pd\n",
    "from tqdm import tqdm\n",
    "import seaborn as sns\n",
    "import numpy as np"
   ]
  },
  {
   "cell_type": "code",
   "execution_count": 131,
   "metadata": {},
   "outputs": [],
   "source": [
    "class Likelihood(nn.Module):\n",
    "    def __init__(self):\n",
    "        super().__init__()\n",
    "        # Parameters for line\n",
    "        self.m = nn.Parameter(torch.tensor(1.0), requires_grad=True)\n",
    "        self.b = nn.Parameter(torch.tensor(1.0), requires_grad=True)\n",
    "        \n",
    "        # Noise of data\n",
    "        self.noise = nn.Parameter(torch.tensor(1.0), requires_grad=True)\n",
    "        \n",
    "        # Collect losses over time\n",
    "        self.losses = []\n",
    "    \n",
    "    def forward(self, x, y):\n",
    "        # Takes numpy array as input and converts to tensors\n",
    "        x = torch.tensor(x)\n",
    "        y = torch.tensor(y)\n",
    "        \n",
    "        # Minimizing this function\n",
    "        loss = (1 / len(x)) * torch.sum((y - x * self.m - self.b) ** 2 / (2 * self.noise ** 2)) + torch.log(self.noise)\n",
    "        \n",
    "        # Save and return loss\n",
    "        self.losses.append(loss.item())\n",
    "        return loss"
   ]
  },
  {
   "cell_type": "code",
   "execution_count": 132,
   "metadata": {},
   "outputs": [],
   "source": [
    "class SimpleProb(nn.Module):\n",
    "    def __init__(self):\n",
    "        super().__init__()\n",
    "        self.std = nn.Parameter(torch.tensor(1.0), requires_grad=True)\n",
    "    \n",
    "    def forward(self, k):\n",
    "        return torch.log(self.std) + 0.5 * (k / self.std) ** 2"
   ]
  },
  {
   "cell_type": "code",
   "execution_count": 133,
   "metadata": {},
   "outputs": [],
   "source": [
    "class Posterior(nn.Module):\n",
    "    def __init__(self):\n",
    "        super().__init__()\n",
    "        self.ll = Likelihood()\n",
    "        self.pm = SimpleProb()\n",
    "        self.pb = SimpleProb()\n",
    "    \n",
    "    def forward(self, x, y):\n",
    "        return -torch.log(self.ll(x, y) * self.pm(self.ll.m) * self.pb(self.ll.b))"
   ]
  },
  {
   "cell_type": "code",
   "execution_count": 134,
   "metadata": {},
   "outputs": [],
   "source": [
    "def train(model, x, y, epochs=5, frac=0.1):\n",
    "    optimizer = optim.Adam(model.parameters())\n",
    "    \n",
    "    for epoch in tqdm(range(epochs), desc=\"Training...\"):\n",
    "        # Zero gradiant for training\n",
    "        optimizer.zero_grad()\n",
    "        \n",
    "        # Random selection of data points per iteration\n",
    "        indices = np.random.randint(low=0, high=len(x), size=int(len(x) * frac))\n",
    "        \n",
    "        # Calculates likelihood\n",
    "        loglik = model(x[indices], y[indices])\n",
    "        e = torch.mean(loglik)\n",
    "        \n",
    "        # Updates parameters\n",
    "        e.backward()\n",
    "        optimizer.step()\n",
    "    \n",
    "    return model"
   ]
  },
  {
   "cell_type": "code",
   "execution_count": 135,
   "metadata": {},
   "outputs": [],
   "source": [
    "df = pd.read_csv('data/Advertising.csv').drop('Unnamed: 0', axis=1)\n",
    "x = df.TV.to_numpy()\n",
    "y = df.Sales.to_numpy()"
   ]
  },
  {
   "cell_type": "code",
   "execution_count": 136,
   "metadata": {},
   "outputs": [
    {
     "name": "stderr",
     "output_type": "stream",
     "text": [
      "Training...: 100%|██████████| 5000/5000 [00:04<00:00, 1051.08it/s]\n"
     ]
    },
    {
     "data": {
      "text/plain": [
       "Likelihood()"
      ]
     },
     "execution_count": 136,
     "metadata": {},
     "output_type": "execute_result"
    }
   ],
   "source": [
    "model_ll = train(Likelihood(), x, y, epochs=1)\n",
    "model_ll"
   ]
  },
  {
   "cell_type": "code",
   "execution_count": 137,
   "metadata": {},
   "outputs": [
    {
     "data": {
      "text/plain": [
       "(Parameter containing:\n",
       " tensor(0.0811, requires_grad=True),\n",
       " Parameter containing:\n",
       " tensor(0.2904, requires_grad=True),\n",
       " Parameter containing:\n",
       " tensor(1.4842, requires_grad=True))"
      ]
     },
     "execution_count": 137,
     "metadata": {},
     "output_type": "execute_result"
    }
   ],
   "source": [
    "(model_ll.m, model_ll.b, model_ll.noise)"
   ]
  },
  {
   "cell_type": "code",
   "execution_count": 138,
   "metadata": {},
   "outputs": [
    {
     "data": {
      "text/plain": [
       "[Text(0.5, 0, 'Epoch'),\n",
       " Text(0, 0.5, 'Loss'),\n",
       " Text(0.5, 1.0, 'Likelihood Loss')]"
      ]
     },
     "execution_count": 138,
     "metadata": {},
     "output_type": "execute_result"
    },
    {
     "data": {
      "image/png": "[encoded data removed]",
      "text/plain": [
       "<Figure size 640x480 with 1 Axes>"
      ]
     },
     "metadata": {},
     "output_type": "display_data"
    }
   ],
   "source": [
    "fig = sns.lineplot(x=range(len(model_ll.losses)), y=model_ll.losses, )\n",
    "fig.set(xlabel='Epoch', ylabel='Loss', title='Likelihood Loss')"
   ]
  },
  {
   "cell_type": "code",
   "execution_count": 139,
   "metadata": {},
   "outputs": [
    {
     "name": "stderr",
     "output_type": "stream",
     "text": [
      "Training...: 100%|██████████| 5000/5000 [00:07<00:00, 688.36it/s]\n"
     ]
    },
    {
     "data": {
      "text/plain": [
       "Posterior(\n",
       "  (ll): Likelihood()\n",
       "  (pm): SimpleProb()\n",
       "  (pb): SimpleProb()\n",
       ")"
      ]
     },
     "execution_count": 139,
     "metadata": {},
     "output_type": "execute_result"
    }
   ],
   "source": [
    "model_pl = train(Posterior(), x, y, epochs=5000)\n",
    "model_pl"
   ]
  },
  {
   "cell_type": "code",
   "execution_count": 140,
   "metadata": {},
   "outputs": [
    {
     "name": "stdout",
     "output_type": "stream",
     "text": [
      "(Parameter containing:\n",
      "tensor(nan, requires_grad=True), Parameter containing:\n",
      "tensor(nan, requires_grad=True), Parameter containing:\n",
      "tensor(nan, requires_grad=True), Parameter containing:\n",
      "tensor(nan, requires_grad=True), Parameter containing:\n",
      "tensor(nan, requires_grad=True), Parameter containing:\n",
      "tensor(nan, requires_grad=True))\n"
     ]
    }
   ],
   "source": [
    "print((model_pl.ll.m, model_pl.pm.std, model_pl.ll.b, model_pl.pb.std, model_pl.ll.noise, model_pl.pm.std))"
   ]
  }
 ],
 "metadata": {
  "kernelspec": {
   "display_name": "Python 3",
   "language": "python",
   "name": "python3"
  },
  "language_info": {
   "codemirror_mode": {
    "name": "ipython",
    "version": 3
   },
   "file_extension": ".py",
   "mimetype": "text/x-python",
   "name": "python",
   "nbconvert_exporter": "python",
   "pygments_lexer": "ipython3",
   "version": "3.9.0"
  },
  "orig_nbformat": 4
 },
 "nbformat": 4,
 "nbformat_minor": 2
}
