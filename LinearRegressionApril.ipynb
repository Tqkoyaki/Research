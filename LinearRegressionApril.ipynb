{
 "cells": [
  {
   "cell_type": "code",
   "execution_count": 47,
   "metadata": {},
   "outputs": [],
   "source": [
    "import torch\n",
    "import torch.nn as nn\n",
    "import torch.optim as optim\n",
    "import pandas as pd\n",
    "from tqdm import tqdm\n",
    "import seaborn as sns\n",
    "import numpy as np"
   ]
  },
  {
   "cell_type": "code",
   "execution_count": 48,
   "metadata": {},
   "outputs": [],
   "source": [
    "class Likelihood(nn.Module):\n",
    "    def __init__(self):\n",
    "        super().__init__()\n",
    "        # Parameters for line\n",
    "        self.m = nn.Parameter(torch.tensor(0.0), requires_grad=True)\n",
    "        self.b = nn.Parameter(torch.tensor(0.0), requires_grad=True)\n",
    "        \n",
    "        # Noise of data\n",
    "        self.noise = nn.Parameter(torch.tensor(1.0), requires_grad=True)\n",
    "    \n",
    "    def forward(self, x, y):\n",
    "        # Takes numpy array as input and converts to tensors\n",
    "        x = torch.tensor(x)\n",
    "        y = torch.tensor(y)\n",
    "        \n",
    "        # Minimizing this function\n",
    "        return (1 / len(x)) * torch.sum((y - x * self.m - self.b) ** 2 / (2 * self.noise ** 2)) + torch.log(self.noise)"
   ]
  },
  {
   "cell_type": "code",
   "execution_count": 49,
   "metadata": {},
   "outputs": [],
   "source": [
    "class SimpleProb(nn.Module):\n",
    "    def __init__(self):\n",
    "        self.std = nn.Parameter(torch.tensor(1.0), requires_grad=True)\n",
    "    \n",
    "    def forward(self, k):\n",
    "        return torch.log(self.std) + 0.5 * (k / self.std) ** 2"
   ]
  },
  {
   "cell_type": "code",
   "execution_count": 50,
   "metadata": {},
   "outputs": [],
   "source": [
    "class Posterior(nn.Module):\n",
    "    def __init__(self):\n",
    "        self.ll = Likelihood()\n",
    "        self.pm = SimpleProb()\n",
    "        self.pb = SimpleProb()\n",
    "    \n",
    "    def forward(self, x, y):\n",
    "        return -torch.log(self.ll(x, y) * self.pm(self.ll.m) * self.pb(self.ll.b))"
   ]
  },
  {
   "cell_type": "code",
   "execution_count": 51,
   "metadata": {},
   "outputs": [],
   "source": [
    "def train(x, y, epochs=5, frac=0.1):\n",
    "    model = Likelihood()\n",
    "    optimizer = optim.Adam(model.parameters())\n",
    "    \n",
    "    for epoch in tqdm(range(epochs), desc=\"Training...\"):\n",
    "        # Zero gradiant for training\n",
    "        optimizer.zero_grad()\n",
    "        \n",
    "        # Random selection of data points per iteration\n",
    "        indices = np.random.randint(low=0, high=len(x), size=int(len(x) * frac))\n",
    "        \n",
    "        # Calculates likelihood\n",
    "        loglik = model(x[indices], y[indices])\n",
    "        e = torch.mean(loglik)\n",
    "        \n",
    "        # Updates parameters\n",
    "        e.backward()\n",
    "        optimizer.step()\n",
    "    \n",
    "    return model"
   ]
  },
  {
   "cell_type": "code",
   "execution_count": 52,
   "metadata": {},
   "outputs": [],
   "source": [
    "df = pd.read_csv('data/Advertising.csv').drop('Unnamed: 0', axis=1)\n",
    "x = df.TV.to_numpy()\n",
    "y = df.Sales.to_numpy()"
   ]
  },
  {
   "cell_type": "code",
   "execution_count": 53,
   "metadata": {},
   "outputs": [
    {
     "name": "stderr",
     "output_type": "stream",
     "text": [
      "Training...: 100%|██████████| 5000/5000 [00:04<00:00, 1045.52it/s]\n"
     ]
    },
    {
     "data": {
      "text/plain": [
       "Likelihood()"
      ]
     },
     "execution_count": 53,
     "metadata": {},
     "output_type": "execute_result"
    }
   ],
   "source": [
    "model_ll = train(x, y, epochs=5000)\n",
    "model_ll"
   ]
  },
  {
   "cell_type": "code",
   "execution_count": 55,
   "metadata": {},
   "outputs": [
    {
     "data": {
      "text/plain": [
       "(Parameter containing:\n",
       " tensor(nan, requires_grad=True),\n",
       " Parameter containing:\n",
       " tensor(nan, requires_grad=True),\n",
       " Parameter containing:\n",
       " tensor(nan, requires_grad=True))"
      ]
     },
     "execution_count": 55,
     "metadata": {},
     "output_type": "execute_result"
    }
   ],
   "source": [
    "(model_ll.m, model_ll.b, model_ll.noise)"
   ]
  }
 ],
 "metadata": {
  "kernelspec": {
   "display_name": "Python 3",
   "language": "python",
   "name": "python3"
  },
  "language_info": {
   "codemirror_mode": {
    "name": "ipython",
    "version": 3
   },
   "file_extension": ".py",
   "mimetype": "text/x-python",
   "name": "python",
   "nbconvert_exporter": "python",
   "pygments_lexer": "ipython3",
   "version": "3.9.0"
  },
  "orig_nbformat": 4
 },
 "nbformat": 4,
 "nbformat_minor": 2
}
