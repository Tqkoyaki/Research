{
 "cells": [
  {
   "cell_type": "code",
   "execution_count": 32,
   "metadata": {},
   "outputs": [],
   "source": [
    "import torch\n",
    "import torch.nn as nn\n",
    "import torch.optim as optim\n",
    "import pandas as pd\n",
    "from tqdm import tqdm\n",
    "import seaborn as sns\n",
    "import numpy as np"
   ]
  },
  {
   "cell_type": "code",
   "execution_count": 33,
   "metadata": {},
   "outputs": [],
   "source": [
    "class Likelihood(nn.Module):\n",
    "    def __init__(self):\n",
    "        super().__init__()\n",
    "        # Parameters for line\n",
    "        self.m = nn.Parameter(torch.tensor(1.0), requires_grad=True)\n",
    "        self.b = nn.Parameter(torch.tensor(1.0), requires_grad=True)\n",
    "        \n",
    "        # Noise of data\n",
    "        self.noise = nn.Parameter(torch.tensor(1.0), requires_grad=True)\n",
    "        \n",
    "        # Collect losses over time\n",
    "        self.losses = []\n",
    "    \n",
    "    def forward(self, x, y):\n",
    "        # Takes numpy array as input and converts to tensors\n",
    "        x = torch.tensor(x)\n",
    "        y = torch.tensor(y)\n",
    "        \n",
    "        # Minimizing this function\n",
    "        loss = torch.sum((y - x * self.m - self.b) ** 2 / (2 * self.noise ** 2)) + torch.log(self.noise)\n",
    "        \n",
    "        # Save and return loss\n",
    "        self.losses.append(loss.item())\n",
    "        return loss"
   ]
  },
  {
   "cell_type": "code",
   "execution_count": 34,
   "metadata": {},
   "outputs": [],
   "source": [
    "class SimpleProb(nn.Module):\n",
    "    def __init__(self):\n",
    "        super().__init__()\n",
    "        self.std = nn.Parameter(torch.tensor(1.0), requires_grad=True)\n",
    "        \n",
    "        # Collects loss over time\n",
    "        self.losses = []\n",
    "    \n",
    "    def forward(self, k):\n",
    "        loss = torch.log(self.std) + 0.5 * (k / self.std) ** 2\n",
    "    \n",
    "        # Save and return loss\n",
    "        self.losses.append(loss.item())\n",
    "        return loss"
   ]
  },
  {
   "cell_type": "code",
   "execution_count": 35,
   "metadata": {},
   "outputs": [],
   "source": [
    "class Posterior(nn.Module):\n",
    "    def __init__(self):\n",
    "        # All parameters that need optimization\n",
    "        super().__init__()\n",
    "        self.ll = Likelihood()\n",
    "        self.pm = SimpleProb()\n",
    "        self.pb = SimpleProb()\n",
    "        \n",
    "        # Collects loss over time\n",
    "        self.losses = []\n",
    "        self.reses = []\n",
    "    \n",
    "    def forward(self, x, y):\n",
    "        loss = self.ll(x, y) + self.pm(self.ll.m) + self.pb(self.ll.b)\n",
    "        self.reses.append((self.ll.m.item(), self.pm.std.item(), self.ll.b.item(), self.pb.std.item(), self.ll.noise.item()))\n",
    "        \n",
    "        # Save and return loss\n",
    "        self.losses.append(loss.item())\n",
    "        return loss\n",
    "    "
   ]
  },
  {
   "cell_type": "code",
   "execution_count": 36,
   "metadata": {},
   "outputs": [],
   "source": [
    "def train(model, x, y, epochs=5, frac=0.1):\n",
    "    optimizer = optim.Adam(model.parameters())\n",
    "    \n",
    "    for epoch in tqdm(range(epochs), desc=\"Training...\"):\n",
    "        # Zero gradiant for training\n",
    "        optimizer.zero_grad()\n",
    "        \n",
    "        # Random selection of data points per iteration\n",
    "        indices = np.random.randint(low=0, high=len(x), size=int(len(x) * frac))\n",
    "        \n",
    "        # Calculates likelihood\n",
    "        loglik = model(x[indices], y[indices])\n",
    "        e = torch.mean(loglik)\n",
    "        \n",
    "        # Updates parameters\n",
    "        e.backward()\n",
    "        optimizer.step()\n",
    "    \n",
    "    return model"
   ]
  },
  {
   "cell_type": "code",
   "execution_count": 37,
   "metadata": {},
   "outputs": [],
   "source": [
    "df = pd.read_csv('data/Advertising.csv').drop('Unnamed: 0', axis=1)\n",
    "x = df.TV.to_numpy()\n",
    "y = df.Sales.to_numpy()"
   ]
  },
  {
   "cell_type": "code",
   "execution_count": 38,
   "metadata": {},
   "outputs": [
    {
     "name": "stderr",
     "output_type": "stream",
     "text": [
      "Training...: 100%|██████████| 5000/5000 [00:02<00:00, 2378.44it/s]\n"
     ]
    },
    {
     "data": {
      "text/plain": [
       "Likelihood()"
      ]
     },
     "execution_count": 38,
     "metadata": {},
     "output_type": "execute_result"
    }
   ],
   "source": [
    "model_ll = train(Likelihood(), x, y, epochs=5000)\n",
    "model_ll"
   ]
  },
  {
   "cell_type": "code",
   "execution_count": 39,
   "metadata": {},
   "outputs": [
    {
     "data": {
      "text/plain": [
       "(Parameter containing:\n",
       " tensor(0.0818, requires_grad=True),\n",
       " Parameter containing:\n",
       " tensor(0.2883, requires_grad=True),\n",
       " Parameter containing:\n",
       " tensor(1.4832, requires_grad=True))"
      ]
     },
     "execution_count": 39,
     "metadata": {},
     "output_type": "execute_result"
    }
   ],
   "source": [
    "(model_ll.m, model_ll.b, model_ll.noise)"
   ]
  },
  {
   "cell_type": "code",
   "execution_count": 40,
   "metadata": {},
   "outputs": [
    {
     "data": {
      "text/plain": [
       "[Text(0.5, 0, 'Epoch'),\n",
       " Text(0, 0.5, 'Loss'),\n",
       " Text(0.5, 1.0, 'Likelihood Loss')]"
      ]
     },
     "execution_count": 40,
     "metadata": {},
     "output_type": "execute_result"
    },
    {
     "data": {
      "image/png": "[encoded data removed]",
      "text/plain": [
       "<Figure size 640x480 with 1 Axes>"
      ]
     },
     "metadata": {},
     "output_type": "display_data"
    }
   ],
   "source": [
    "fig = sns.lineplot(x=range(len(model_ll.losses)), y=model_ll.losses)\n",
    "fig.set(xlabel='Epoch', ylabel='Loss', title='Likelihood Loss')"
   ]
  },
  {
   "cell_type": "code",
   "execution_count": 44,
   "metadata": {},
   "outputs": [
    {
     "name": "stderr",
     "output_type": "stream",
     "text": [
      "Training...: 100%|██████████| 5000/5000 [00:03<00:00, 1619.50it/s]\n"
     ]
    },
    {
     "data": {
      "text/plain": [
       "Posterior(\n",
       "  (ll): Likelihood()\n",
       "  (pm): SimpleProb()\n",
       "  (pb): SimpleProb()\n",
       ")"
      ]
     },
     "execution_count": 44,
     "metadata": {},
     "output_type": "execute_result"
    }
   ],
   "source": [
    "model_pl = train(Posterior(), x, y, epochs=5000)\n",
    "model_pl"
   ]
  },
  {
   "cell_type": "code",
   "execution_count": 45,
   "metadata": {},
   "outputs": [
    {
     "data": {
      "text/plain": [
       "(Parameter containing:\n",
       " tensor(0.0827, requires_grad=True),\n",
       " Parameter containing:\n",
       " tensor(0.0827, requires_grad=True),\n",
       " Parameter containing:\n",
       " tensor(0.1850, requires_grad=True),\n",
       " Parameter containing:\n",
       " tensor(0.1849, requires_grad=True),\n",
       " Parameter containing:\n",
       " tensor(1.4842, requires_grad=True))"
      ]
     },
     "execution_count": 45,
     "metadata": {},
     "output_type": "execute_result"
    }
   ],
   "source": [
    "(model_pl.ll.m, model_pl.pm.std, model_pl.ll.b, model_pl.pb.std, model_pl.ll.noise)"
   ]
  },
  {
   "cell_type": "code",
   "execution_count": 46,
   "metadata": {},
   "outputs": [
    {
     "data": {
      "text/plain": [
       "[Text(0.5, 0, 'Epoch'), Text(0, 0.5, 'Loss'), Text(0.5, 1.0, 'Posterior Loss')]"
      ]
     },
     "execution_count": 46,
     "metadata": {},
     "output_type": "execute_result"
    },
    {
     "data": {
      "image/png": "[encoded data removed]",
      "text/plain": [
       "<Figure size 640x480 with 1 Axes>"
      ]
     },
     "metadata": {},
     "output_type": "display_data"
    }
   ],
   "source": [
    "fig = sns.lineplot(x=range(len(model_ll.losses)), y=model_pl.losses)\n",
    "fig.set(xlabel='Epoch', ylabel='Loss', title='Posterior Loss')"
   ]
  }
 ],
 "metadata": {
  "kernelspec": {
   "display_name": "Python 3",
   "language": "python",
   "name": "python3"
  },
  "language_info": {
   "codemirror_mode": {
    "name": "ipython",
    "version": 3
   },
   "file_extension": ".py",
   "mimetype": "text/x-python",
   "name": "python",
   "nbconvert_exporter": "python",
   "pygments_lexer": "ipython3",
   "version": "3.9.0"
  },
  "orig_nbformat": 4
 },
 "nbformat": 4,
 "nbformat_minor": 2
}
