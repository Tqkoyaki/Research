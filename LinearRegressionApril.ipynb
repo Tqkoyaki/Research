{
 "cells": [
  {
   "cell_type": "code",
   "execution_count": 28,
   "metadata": {},
   "outputs": [],
   "source": [
    "import torch\n",
    "import torch.nn as nn\n",
    "import torch.optim as optim\n",
    "import pandas as pd\n",
    "from tqdm import tqdm\n",
    "import seaborn as sns\n",
    "import numpy as np"
   ]
  },
  {
   "cell_type": "code",
   "execution_count": 29,
   "metadata": {},
   "outputs": [],
   "source": [
    "class Likelihood(nn.Module):\n",
    "    def __init__(self):\n",
    "        super().__init__()\n",
    "        # Parameters for line\n",
    "        self.m = nn.Parameter(torch.tensor(1.0), requires_grad=True)\n",
    "        self.b = nn.Parameter(torch.tensor(1.0), requires_grad=True)\n",
    "        \n",
    "        # Noise of data\n",
    "        self.noise = nn.Parameter(torch.tensor(1.0), requires_grad=True)\n",
    "        \n",
    "        # Collect losses over time\n",
    "        self.losses = []\n",
    "    \n",
    "    def forward(self, x, y):\n",
    "        # Takes numpy array as input and converts to tensors\n",
    "        x = torch.tensor(x)\n",
    "        y = torch.tensor(y)\n",
    "        \n",
    "        # Minimizing this function\n",
    "        #loss = torch.sum((y - x * self.m - self.b) ** 2 / (2 * self.noise ** 2)) + torch.log(self.noise)\n",
    "        loss = -0.5 * torch.log(2 * np.pi * self.noise ** 2) - ((y - (self.b + self.m * x)) ** 2) / (2 * self.noise ** 2)\n",
    "        \n",
    "        # Save and return loss\n",
    "        #self.losses.append(loss.item())\n",
    "        return loss"
   ]
  },
  {
   "cell_type": "code",
   "execution_count": 30,
   "metadata": {},
   "outputs": [],
   "source": [
    "class SimpleProb(nn.Module):\n",
    "    def __init__(self):\n",
    "        super().__init__()\n",
    "        self.std = nn.Parameter(torch.tensor(1.0), requires_grad=True)\n",
    "        \n",
    "        # Collects loss over time\n",
    "        self.losses = []\n",
    "    \n",
    "    def forward(self, k):\n",
    "        loss = torch.log(self.std) + 0.5 * (k / self.std) ** 2\n",
    "    \n",
    "        # Save and return loss\n",
    "        self.losses.append(loss.item())\n",
    "        return loss"
   ]
  },
  {
   "cell_type": "code",
   "execution_count": 31,
   "metadata": {},
   "outputs": [],
   "source": [
    "class Posterior(nn.Module):\n",
    "    def __init__(self):\n",
    "        # All parameters that need optimization\n",
    "        super().__init__()\n",
    "        self.ll = Likelihood()\n",
    "        self.pm = SimpleProb()\n",
    "        self.pb = SimpleProb()\n",
    "        \n",
    "        # Collects loss over time\n",
    "        self.losses = []\n",
    "        self.reses = []\n",
    "    \n",
    "    def forward(self, x, y):\n",
    "        loss = self.ll(x, y) + self.pm(self.ll.m) + self.pb(self.ll.b)\n",
    "        self.reses.append((self.ll.m.item(), self.pm.std.item(), self.ll.b.item(), self.pb.std.item(), self.ll.noise.item()))\n",
    "        \n",
    "        # Save and return loss\n",
    "        self.losses.append(loss.item())\n",
    "        return loss\n",
    "    "
   ]
  },
  {
   "cell_type": "code",
   "execution_count": 32,
   "metadata": {},
   "outputs": [],
   "source": [
    "def train(model, x, y, epochs=5, frac=0.1):\n",
    "    optimizer = optim.Adam(model.parameters())\n",
    "    \n",
    "    for epoch in tqdm(range(epochs), desc=\"Training...\"):\n",
    "        # Zero gradiant for training\n",
    "        optimizer.zero_grad()\n",
    "        \n",
    "        # Random selection of data points per iteration\n",
    "        #indices = np.random.randint(low=0, high=len(x), size=int(len(x) * frac))\n",
    "        \n",
    "        # Calculates likelihood\n",
    "        #loglik = model(x[indices], y[indices])\n",
    "        loglik = model(x, y)\n",
    "        e = torch.mean(loglik)\n",
    "        \n",
    "        # Updates parameters\n",
    "        e.backward()\n",
    "        optimizer.step()\n",
    "    \n",
    "    return model"
   ]
  },
  {
   "cell_type": "code",
   "execution_count": 33,
   "metadata": {},
   "outputs": [],
   "source": [
    "df = pd.read_csv('data/Advertising.csv').drop('Unnamed: 0', axis=1)\n",
    "x = df.TV.to_numpy()\n",
    "y = df.Sales.to_numpy()"
   ]
  },
  {
   "cell_type": "code",
   "execution_count": 34,
   "metadata": {},
   "outputs": [
    {
     "name": "stderr",
     "output_type": "stream",
     "text": [
      "Training...: 100%|██████████| 100000/100000 [00:30<00:00, 3248.21it/s]\n"
     ]
    },
    {
     "data": {
      "text/plain": [
       "Likelihood()"
      ]
     },
     "execution_count": 34,
     "metadata": {},
     "output_type": "execute_result"
    }
   ],
   "source": [
    "model_ll = train(Likelihood(), x, y, epochs=100000)\n",
    "model_ll"
   ]
  },
  {
   "cell_type": "code",
   "execution_count": 35,
   "metadata": {},
   "outputs": [
    {
     "data": {
      "text/plain": [
       "(Parameter containing:\n",
       " tensor(16.6449, requires_grad=True),\n",
       " Parameter containing:\n",
       " tensor(16.6502, requires_grad=True),\n",
       " Parameter containing:\n",
       " tensor(-0.0290, requires_grad=True))"
      ]
     },
     "execution_count": 35,
     "metadata": {},
     "output_type": "execute_result"
    }
   ],
   "source": [
    "(model_ll.m, model_ll.b, model_ll.noise)"
   ]
  },
  {
   "cell_type": "code",
   "execution_count": 36,
   "metadata": {},
   "outputs": [
    {
     "data": {
      "text/plain": [
       "[Text(0.5, 0, 'Epoch'),\n",
       " Text(0, 0.5, 'Loss'),\n",
       " Text(0.5, 1.0, 'Likelihood Loss')]"
      ]
     },
     "execution_count": 36,
     "metadata": {},
     "output_type": "execute_result"
    },
    {
     "data": {
      "image/png": "[encoded data removed]",
      "text/plain": [
       "<Figure size 640x480 with 1 Axes>"
      ]
     },
     "metadata": {},
     "output_type": "display_data"
    }
   ],
   "source": [
    "fig = sns.lineplot(x=range(len(model_ll.losses)), y=model_ll.losses)\n",
    "fig.set(xlabel='Epoch', ylabel='Loss', title='Likelihood Loss')"
   ]
  },
  {
   "cell_type": "code",
   "execution_count": 37,
   "metadata": {},
   "outputs": [
    {
     "name": "stderr",
     "output_type": "stream",
     "text": [
      "Training...:   0%|          | 0/5000 [00:00<?, ?it/s]\n"
     ]
    },
    {
     "ename": "ValueError",
     "evalue": "only one element tensors can be converted to Python scalars",
     "output_type": "error",
     "traceback": [
      "\u001b[1;31m---------------------------------------------------------------------------\u001b[0m",
      "\u001b[1;31mValueError\u001b[0m                                Traceback (most recent call last)",
      "Cell \u001b[1;32mIn[37], line 1\u001b[0m\n\u001b[1;32m----> 1\u001b[0m model_pl \u001b[39m=\u001b[39m train(Posterior(), x, y, epochs\u001b[39m=\u001b[39;49m\u001b[39m5000\u001b[39;49m)\n\u001b[0;32m      2\u001b[0m model_pl\n",
      "Cell \u001b[1;32mIn[32], line 13\u001b[0m, in \u001b[0;36mtrain\u001b[1;34m(model, x, y, epochs, frac)\u001b[0m\n\u001b[0;32m      6\u001b[0m optimizer\u001b[39m.\u001b[39mzero_grad()\n\u001b[0;32m      8\u001b[0m \u001b[39m# Random selection of data points per iteration\u001b[39;00m\n\u001b[0;32m      9\u001b[0m \u001b[39m#indices = np.random.randint(low=0, high=len(x), size=int(len(x) * frac))\u001b[39;00m\n\u001b[0;32m     10\u001b[0m \n\u001b[0;32m     11\u001b[0m \u001b[39m# Calculates likelihood\u001b[39;00m\n\u001b[0;32m     12\u001b[0m \u001b[39m#loglik = model(x[indices], y[indices])\u001b[39;00m\n\u001b[1;32m---> 13\u001b[0m loglik \u001b[39m=\u001b[39m model(x, y)\n\u001b[0;32m     14\u001b[0m e \u001b[39m=\u001b[39m torch\u001b[39m.\u001b[39mmean(loglik)\n\u001b[0;32m     16\u001b[0m \u001b[39m# Updates parameters\u001b[39;00m\n",
      "File \u001b[1;32mc:\\Users\\pande\\AppData\\Local\\Programs\\Python\\Python39\\lib\\site-packages\\torch\\nn\\modules\\module.py:1190\u001b[0m, in \u001b[0;36mModule._call_impl\u001b[1;34m(self, *input, **kwargs)\u001b[0m\n\u001b[0;32m   1186\u001b[0m \u001b[39m# If we don't have any hooks, we want to skip the rest of the logic in\u001b[39;00m\n\u001b[0;32m   1187\u001b[0m \u001b[39m# this function, and just call forward.\u001b[39;00m\n\u001b[0;32m   1188\u001b[0m \u001b[39mif\u001b[39;00m \u001b[39mnot\u001b[39;00m (\u001b[39mself\u001b[39m\u001b[39m.\u001b[39m_backward_hooks \u001b[39mor\u001b[39;00m \u001b[39mself\u001b[39m\u001b[39m.\u001b[39m_forward_hooks \u001b[39mor\u001b[39;00m \u001b[39mself\u001b[39m\u001b[39m.\u001b[39m_forward_pre_hooks \u001b[39mor\u001b[39;00m _global_backward_hooks\n\u001b[0;32m   1189\u001b[0m         \u001b[39mor\u001b[39;00m _global_forward_hooks \u001b[39mor\u001b[39;00m _global_forward_pre_hooks):\n\u001b[1;32m-> 1190\u001b[0m     \u001b[39mreturn\u001b[39;00m forward_call(\u001b[39m*\u001b[39m\u001b[39minput\u001b[39m, \u001b[39m*\u001b[39m\u001b[39m*\u001b[39mkwargs)\n\u001b[0;32m   1191\u001b[0m \u001b[39m# Do not call functions when jit is used\u001b[39;00m\n\u001b[0;32m   1192\u001b[0m full_backward_hooks, non_full_backward_hooks \u001b[39m=\u001b[39m [], []\n",
      "Cell \u001b[1;32mIn[31], line 18\u001b[0m, in \u001b[0;36mPosterior.forward\u001b[1;34m(self, x, y)\u001b[0m\n\u001b[0;32m     15\u001b[0m \u001b[39mself\u001b[39m\u001b[39m.\u001b[39mreses\u001b[39m.\u001b[39mappend((\u001b[39mself\u001b[39m\u001b[39m.\u001b[39mll\u001b[39m.\u001b[39mm\u001b[39m.\u001b[39mitem(), \u001b[39mself\u001b[39m\u001b[39m.\u001b[39mpm\u001b[39m.\u001b[39mstd\u001b[39m.\u001b[39mitem(), \u001b[39mself\u001b[39m\u001b[39m.\u001b[39mll\u001b[39m.\u001b[39mb\u001b[39m.\u001b[39mitem(), \u001b[39mself\u001b[39m\u001b[39m.\u001b[39mpb\u001b[39m.\u001b[39mstd\u001b[39m.\u001b[39mitem(), \u001b[39mself\u001b[39m\u001b[39m.\u001b[39mll\u001b[39m.\u001b[39mnoise\u001b[39m.\u001b[39mitem()))\n\u001b[0;32m     17\u001b[0m \u001b[39m# Save and return loss\u001b[39;00m\n\u001b[1;32m---> 18\u001b[0m \u001b[39mself\u001b[39m\u001b[39m.\u001b[39mlosses\u001b[39m.\u001b[39mappend(loss\u001b[39m.\u001b[39;49mitem())\n\u001b[0;32m     19\u001b[0m \u001b[39mreturn\u001b[39;00m loss\n",
      "\u001b[1;31mValueError\u001b[0m: only one element tensors can be converted to Python scalars"
     ]
    }
   ],
   "source": [
    "model_pl = train(Posterior(), x, y, epochs=5000)\n",
    "model_pl"
   ]
  },
  {
   "cell_type": "code",
   "execution_count": null,
   "metadata": {},
   "outputs": [
    {
     "data": {
      "text/plain": [
       "(Parameter containing:\n",
       " tensor(0.0818, requires_grad=True),\n",
       " Parameter containing:\n",
       " tensor(0.0818, requires_grad=True),\n",
       " Parameter containing:\n",
       " tensor(0.2963, requires_grad=True),\n",
       " Parameter containing:\n",
       " tensor(0.2963, requires_grad=True),\n",
       " Parameter containing:\n",
       " tensor(1.4851, requires_grad=True))"
      ]
     },
     "execution_count": 11,
     "metadata": {},
     "output_type": "execute_result"
    }
   ],
   "source": [
    "(model_pl.ll.m, model_pl.pm.std, model_pl.ll.b, model_pl.pb.std, model_pl.ll.noise)"
   ]
  },
  {
   "cell_type": "code",
   "execution_count": null,
   "metadata": {},
   "outputs": [
    {
     "data": {
      "text/plain": [
       "[Text(0.5, 0, 'Epoch'), Text(0, 0.5, 'Loss'), Text(0.5, 1.0, 'Posterior Loss')]"
      ]
     },
     "execution_count": 12,
     "metadata": {},
     "output_type": "execute_result"
    },
    {
     "data": {
      "image/png": "[encoded data removed]",
      "text/plain": [
       "<Figure size 640x480 with 1 Axes>"
      ]
     },
     "metadata": {},
     "output_type": "display_data"
    }
   ],
   "source": [
    "fig = sns.lineplot(x=range(len(model_ll.losses)), y=model_pl.losses)\n",
    "fig.set(xlabel='Epoch', ylabel='Loss', title='Posterior Loss')"
   ]
  }
 ],
 "metadata": {
  "kernelspec": {
   "display_name": "Python 3",
   "language": "python",
   "name": "python3"
  },
  "language_info": {
   "codemirror_mode": {
    "name": "ipython",
    "version": 3
   },
   "file_extension": ".py",
   "mimetype": "text/x-python",
   "name": "python",
   "nbconvert_exporter": "python",
   "pygments_lexer": "ipython3",
   "version": "3.9.0"
  },
  "orig_nbformat": 4
 },
 "nbformat": 4,
 "nbformat_minor": 2
}
